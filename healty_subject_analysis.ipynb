{
 "cells": [
  {
   "cell_type": "markdown",
   "id": "2e727d44",
   "metadata": {},
   "source": [
    "# Preprocessing and Analysis of Healthy Subjects in the Gait Rehabilitation Project\n",
    "\n",
    "- Focuses on understanding gait patterns and biomechanics in healthy individuals.\n",
    "- Provides baseline data for comparison with patients undergoing rehabilitation.\n",
    "- Aims to identify key metrics for evaluating gait performance and recovery progress.\n",
    "- Creates a new dataset that simplifies the process of data usage, from EDA, ETL and machine learning training "
   ]
  },
  {
   "cell_type": "code",
   "execution_count": null,
   "id": "db4f7e10",
   "metadata": {},
   "outputs": [],
   "source": [
    "\n",
    "# Import libraries\n",
    "import os, sys\n",
    "import pandas as pd\n",
    "import numpy as np\n",
    "import matplotlib.pyplot as plt\n",
    "import data_transform as dt\n",
    "\n",
    "\n",
    "# Static variables and paths\n",
    "DATA_DIR = os.path.join(os.getcwd(), 'Data/Healthy/')"
   ]
  },
  {
   "cell_type": "markdown",
   "id": "d089f1b7",
   "metadata": {},
   "source": [
    "# Preprocessing"
   ]
  },
  {
   "cell_type": "markdown",
   "id": "d4b2e685",
   "metadata": {},
   "source": [
    "### Data transformation\n",
    "\n",
    "- Combines data from the left and right shank into a single dataframe.\n",
    "- Facilitates ease of use by consolidating information for both sides.\n",
    "- Ensures consistency in data structure for analysis and modeling.\n",
    "- Allows for streamlined processing and comparison of gait metrics across both sides."
   ]
  },
  {
   "cell_type": "code",
   "execution_count": 17,
   "id": "5d3977db",
   "metadata": {},
   "outputs": [
    {
     "name": "stdout",
     "output_type": "stream",
     "text": [
      "Processing /Users/stamatiosorphanos/Documents/GaitRehab/Data/Healthy/Patient_1\n",
      "\n",
      "\n",
      "Files: ['LeftShank-Accelerometer.csv', 'RightShank-Accelerometer.csv', 'LeftShank-Gyroscope.csv', 'RightShank-Gyroscope.csv']\n",
      "Processing /Users/stamatiosorphanos/Documents/GaitRehab/Data/Healthy/Patient_6\n",
      "\n",
      "\n",
      "Files: ['LeftShank-Accelerometer.csv', 'RightShank-Accelerometer.csv', '.DS_Store', 'LeftShank-Gyroscope.csv', 'RightShank-Gyroscope.csv']\n",
      "Processing /Users/stamatiosorphanos/Documents/GaitRehab/Data/Healthy/Patient_7\n",
      "\n",
      "\n",
      "Files: ['LeftShank-Accelerometer.csv', 'RightShank-Accelerometer.csv', '.DS_Store', 'LeftShank-Gyroscope.csv', 'RightShank-Gyroscope.csv']\n",
      "Processing /Users/stamatiosorphanos/Documents/GaitRehab/Data/Healthy/Patient_5\n",
      "\n",
      "\n",
      "Files: ['LeftShank-Accelerometer.csv', 'RightShank-Accelerometer.csv', '.DS_Store', 'LeftShank-Gyroscope.csv', 'RightShank-Gyroscope.csv']\n",
      "Processing /Users/stamatiosorphanos/Documents/GaitRehab/Data/Healthy/Patient_2\n",
      "\n",
      "\n",
      "Files: ['LeftShank-Accelerometer.csv', 'RightShank-Accelerometer.csv', '.DS_Store', 'LeftShank-Gyroscope.csv', 'RightShank-Gyroscope.csv']\n",
      "Processing /Users/stamatiosorphanos/Documents/GaitRehab/Data/Healthy/Patient_3\n",
      "\n",
      "\n",
      "Files: ['LeftShank-Accelerometer.csv', 'RightShank-Accelerometer.csv', '.DS_Store', 'LeftShank-Gyroscope.csv', 'RightShank-Gyroscope.csv']\n",
      "Processing /Users/stamatiosorphanos/Documents/GaitRehab/Data/Healthy/Patient_4\n",
      "\n",
      "\n",
      "Files: ['LeftShank-Accelerometer.csv', 'RightShank-Accelerometer.csv', '.DS_Store', 'LeftShank-Gyroscope.csv', 'RightShank-Gyroscope.csv']\n"
     ]
    }
   ],
   "source": [
    "for subdir, dirs, files in os.walk(DATA_DIR):\n",
    "    if subdir.__contains__(\"Patient\"):\n",
    "        print(f\"Processing {subdir}\")\n",
    "        print(\"\\n\")\n",
    "        print(f\"Files: {files}\")\n",
    "        # dt.merge_data(subdir, )\n"
   ]
  },
  {
   "cell_type": "code",
   "execution_count": null,
   "id": "72a6a209",
   "metadata": {},
   "outputs": [],
   "source": []
  },
  {
   "cell_type": "markdown",
   "id": "bbe77fac",
   "metadata": {},
   "source": []
  }
 ],
 "metadata": {
  "kernelspec": {
   "display_name": "base",
   "language": "python",
   "name": "python3"
  },
  "language_info": {
   "codemirror_mode": {
    "name": "ipython",
    "version": 3
   },
   "file_extension": ".py",
   "mimetype": "text/x-python",
   "name": "python",
   "nbconvert_exporter": "python",
   "pygments_lexer": "ipython3",
   "version": "3.10.9"
  }
 },
 "nbformat": 4,
 "nbformat_minor": 5
}
