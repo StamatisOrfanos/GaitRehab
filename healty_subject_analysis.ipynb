{
 "cells": [
  {
   "cell_type": "markdown",
   "id": "2e727d44",
   "metadata": {},
   "source": [
    "# Preprocessing and Analysis of Healthy Subjects in the Gait Rehabilitation Project\n",
    "\n",
    "- Focuses on understanding gait patterns and biomechanics in healthy individuals.\n",
    "- Provides baseline data for comparison with patients undergoing rehabilitation.\n",
    "- Aims to identify key metrics for evaluating gait performance and recovery progress.\n",
    "- Creates a new dataset that simplifies the process of data usage, from EDA, ETL and machine learning training "
   ]
  },
  {
   "cell_type": "code",
   "execution_count": null,
   "id": "db4f7e10",
   "metadata": {},
   "outputs": [],
   "source": [
    "\n",
    "# Import libraries\n",
    "import os, sys\n",
    "import pandas as pd\n",
    "import numpy as np\n",
    "import matplotlib.pyplot as plt\n",
    "from data_preprocessing import merge_data, time_domain_features, frequency_domain_features, gait_features, cross_limb_features\n",
    "\n",
    "# Static variables and paths\n",
    "base_dir = 'Data/Healthy'"
   ]
  },
  {
   "cell_type": "markdown",
   "id": "d089f1b7",
   "metadata": {},
   "source": [
    "# Preprocessing - Feature Extraction"
   ]
  },
  {
   "cell_type": "markdown",
   "id": "d4b2e685",
   "metadata": {},
   "source": [
    "### Data preprocessing\n",
    "\n",
    "- Combines data from the left and right shank into a single dataframe.\n",
    "- Facilitates ease of use by consolidating information for both sides.\n",
    "- Ensures consistency in data structure for analysis and modeling.\n",
    "- Allows for streamlined processing and comparison of gait metrics across both sides."
   ]
  },
  {
   "cell_type": "markdown",
   "id": "72627049",
   "metadata": {},
   "source": [
    "### Feature Extraction\n",
    "- Extract relevant **Time Domain Features** like: Mean, Standard Deviation, Maximum, Minimum, Root Mean Square, Median Absolute Deviation, Range, Interquartile Range, Skewness & Kurtosis, Zero-crossing rate, Peak count / amplitude.\n",
    "\n",
    "- Extract relevant **Frequency Domain Features** in a 30sec windows like: Dominant frequency, Spectral entropy, Gait band energy.\n",
    "\n",
    "- Extract relevant **Gait Features**: Stride times, Stance/swing times, Asymmetry index, Symmetry ratio.\n",
    "\n",
    "- Extract relevant **Cross Limb Features**: Left and right stride durations, stride duration difference, stride duration symmetry ratio.\n"
   ]
  },
  {
   "cell_type": "code",
   "execution_count": null,
   "id": "5d3977db",
   "metadata": {},
   "outputs": [],
   "source": [
    "# Loop over each patient folder\n",
    "for patient_folder in os.listdir(base_dir):\n",
    "    patient_path = os.path.join(base_dir, patient_folder)\n",
    "    \n",
    "    if not os.path.isdir(patient_path):\n",
    "        continue \n",
    "\n",
    "    print(f\"\\nProcessing {patient_folder}...\")\n",
    "\n",
    "    # 1. Merge gyroscope data for the patient\n",
    "    left_path = os.path.join(patient_path, 'LeftShank-Gyroscope.csv')\n",
    "    right_path = os.path.join(patient_path, 'RightShank-Gyroscope.csv')\n",
    "    merge_data(patient_path + '/', left_path, right_path, 'gyroscope')\n",
    "\n",
    "    # 2. Run all feature extraction functions \n",
    "    time_domain_features(patient_path + '/', 'gyroscope')\n",
    "    frequency_domain_features(patient_path + '/', 'gyroscope')\n",
    "    gait_features(patient_path + '/', 'gyroscope')\n",
    "    cross_limb_features(patient_path + '/', 'gyroscope')\n",
    "\n",
    "    print(f\"Finished {patient_folder}\")"
   ]
  }
 ],
 "metadata": {
  "kernelspec": {
   "display_name": "Python 3",
   "language": "python",
   "name": "python3"
  },
  "language_info": {
   "codemirror_mode": {
    "name": "ipython",
    "version": 3
   },
   "file_extension": ".py",
   "mimetype": "text/x-python",
   "name": "python",
   "nbconvert_exporter": "python",
   "pygments_lexer": "ipython3",
   "version": "3.10.11"
  }
 },
 "nbformat": 4,
 "nbformat_minor": 5
}
