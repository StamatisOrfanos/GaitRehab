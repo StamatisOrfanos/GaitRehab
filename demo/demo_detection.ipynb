{
 "cells": [
  {
   "cell_type": "markdown",
   "id": "1314b839",
   "metadata": {},
   "source": [
    "# Demo for Real Time Gait Asymmetry Detection Model Task"
   ]
  },
  {
   "cell_type": "markdown",
   "id": "bc018630",
   "metadata": {},
   "source": [
    "The current notebook is going to be a demo of the real time asymmetry detection model capabilities, while also being used as the initial steps for the creation of the pipeline of the deployed version."
   ]
  },
  {
   "cell_type": "code",
   "execution_count": null,
   "id": "c667e095",
   "metadata": {},
   "outputs": [],
   "source": [
    "# Import Liraries\n",
    "import numpy as np\n",
    "import pandas as pd\n",
    "import matplotlib.pyplot as plt\n",
    "from scipy.signal import find_peaks\n",
    "from sklearn.linear_model import LogisticRegression\n",
    "import time"
   ]
  },
  {
   "cell_type": "code",
   "execution_count": null,
   "id": "b71ddad7",
   "metadata": {},
   "outputs": [],
   "source": [
    "# ## Helper Functions\n",
    "def asymmetry_index(left, right):\n",
    "    return [(l - r) / (l + r) if (l + r) != 0 else 0 for l, r in zip(left, right)]\n",
    "\n",
    "def symmetry_ratio(left, right):\n",
    "    return [min(l, r) / max(l, r) if max(l, r) != 0 else 0 for l, r in zip(left, right)]\n",
    "\n",
    "def summarize(lst):\n",
    "    return float(np.mean(lst)) if len(lst) > 0 else 0\n",
    "\n",
    "def simulate_gait_signal(amplitude, freq, phase_shift, noise, duration_sec=2.0, fs=100):\n",
    "    t = np.linspace(0, duration_sec, int(fs * duration_sec))\n",
    "    signal = amplitude * np.sin(2 * np.pi * freq * t + phase_shift)\n",
    "    return signal + np.random.normal(0, noise, size=t.shape)"
   ]
  },
  {
   "cell_type": "code",
   "execution_count": null,
   "id": "63338a73",
   "metadata": {},
   "outputs": [],
   "source": [
    "\n",
    "def generate_simulated_window(healthy=True):\n",
    "    fs = 100\n",
    "    left = simulate_gait_signal(amplitude=50, freq=1.0, phase_shift=0.0, noise=2.0)\n",
    "    if healthy:\n",
    "        right = simulate_gait_signal(amplitude=50, freq=1.0, phase_shift=0.0, noise=2.0)\n",
    "    else:\n",
    "        right = simulate_gait_signal(amplitude=35, freq=1.0, phase_shift=0.1, noise=2.0)\n",
    "    \n",
    "    left_peaks, _ = find_peaks(left, height=10, distance=30)\n",
    "    right_peaks, _ = find_peaks(right, height=10, distance=30)\n",
    "\n",
    "    left_stride_times = np.diff(left_peaks)\n",
    "    right_stride_times = np.diff(right_peaks)\n",
    "\n",
    "    asym = asymmetry_index(left_stride_times, right_stride_times)\n",
    "    sym = symmetry_ratio(left_stride_times, right_stride_times)\n",
    "\n",
    "    return {\n",
    "        \"left\": left,\n",
    "        \"right\": right,\n",
    "        \"asymmetry_index\": summarize(asym),\n",
    "        \"symmetry_ratio\": summarize(sym)\n",
    "    }"
   ]
  },
  {
   "cell_type": "code",
   "execution_count": null,
   "id": "1c0b47a2",
   "metadata": {},
   "outputs": [],
   "source": [
    "# # Gait Asymmetry Detection — Real-Time Simulation Demo\n",
    "\n",
    "\n",
    "# ## Load Trained Model from CSV Features\n",
    "# Load the detection_asymmetry dataset and train a model\n",
    "df = pd.read_csv(\"detection_asymmetry.csv\")\n",
    "df = df[df['label_lenient'] != 2].copy()\n",
    "\n",
    "# Clean stringified list values\n",
    "def clean_feature(x):\n",
    "    try:\n",
    "        return float(str(x).strip(\"[]\").split(\",\")[0])\n",
    "    except:\n",
    "        return np.nan\n",
    "\n",
    "df['gyro-asymmetry-stride-times'] = df['gyro-asymmetry-stride-times'].apply(clean_feature)\n",
    "df['gyro-symmetry-ratio-stride-times'] = df['gyro-symmetry-ratio-stride-times'].apply(clean_feature)\n",
    "\n",
    "features = ['gyro-asymmetry-stride-times', 'gyro-symmetry-ratio-stride-times']\n",
    "X_train = df[features].values\n",
    "y_train = df['label_lenient'].values\n",
    "\n",
    "model = LogisticRegression(max_iter=1000)\n",
    "model.fit(X_train, y_train)\n",
    "\n",
    "\n",
    "\n",
    "# ## Generate Simulated Left and Right Gait Signals\n",
    "\n",
    "\n",
    "# ## Run Simulation\n",
    "def run_simulation(label=\"healthy\"):\n",
    "    healthy = label.lower() == \"healthy\"\n",
    "    win = generate_simulated_window(healthy=healthy)\n",
    "\n",
    "    print(f\"Asymmetry Index (mean): {win['asymmetry_index']:.4f}\")\n",
    "    print(f\"Symmetry Ratio (mean): {win['symmetry_ratio']:.4f}\")\n",
    "\n",
    "    features = np.array([[win['asymmetry_index'], win['symmetry_ratio']]])\n",
    "    pred = model.predict(features)[0]\n",
    "    label_pred = \"ASYMMETRIC\" if pred == 1 else \"SYMMETRIC\"\n",
    "\n",
    "    print(f\"Predicted Gait State: {label_pred}\")\n",
    "\n",
    "    # Plot\n",
    "    plt.figure(figsize=(10, 4))\n",
    "    plt.plot(win['left'], label='Left Shank')\n",
    "    plt.plot(win['right'], label='Right Shank')\n",
    "    plt.title(f\"Simulated Gait — Prediction: {label_pred}\")\n",
    "    plt.xlabel(\"Time steps\")\n",
    "    plt.ylabel(\"Rotation (deg/s)\")\n",
    "    plt.legend()\n",
    "    plt.grid(True)\n",
    "    plt.show()\n",
    "\n",
    "# ## Demo: Simulate Healthy and Stroke Gait\n",
    "print(\"Simulating Healthy Gait\")\n",
    "run_simulation(label=\"healthy\")\n",
    "\n",
    "print(\"\\\\nSimulating Stroke (Asymmetric) Gait\")\n",
    "run_simulation(label=\"stroke\")"
   ]
  }
 ],
 "metadata": {
  "language_info": {
   "name": "python"
  }
 },
 "nbformat": 4,
 "nbformat_minor": 5
}
