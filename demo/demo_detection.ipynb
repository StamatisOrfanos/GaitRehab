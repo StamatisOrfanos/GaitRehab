{
 "cells": [
  {
   "cell_type": "markdown",
   "id": "1314b839",
   "metadata": {},
   "source": [
    "# Demo for Real Time Gait Asymmetry Detection Model Task"
   ]
  },
  {
   "cell_type": "markdown",
   "id": "bc018630",
   "metadata": {},
   "source": [
    "The current notebook is going to be a demo of the real time asymmetry detection model capabilities, while also being used as the initial steps for the creation of the pipeline of the deployed version."
   ]
  },
  {
   "cell_type": "code",
   "execution_count": null,
   "id": "c667e095",
   "metadata": {},
   "outputs": [],
   "source": [
    "# Import Liraries\n",
    "import numpy as np\n",
    "import pandas as pd\n",
    "import matplotlib.pyplot as plt\n",
    "from scipy.signal import find_peaks\n",
    "from sklearn.linear_model import LogisticRegression\n",
    "import time, sys, joblib\n",
    "sys.path.insert(0, '..')\n",
    "\n",
    "from support_functions import simulate_gait_signal, summarize\n",
    "from feature_extraction import asymmetry_index, symmetry_ratio"
   ]
  },
  {
   "cell_type": "code",
   "execution_count": null,
   "id": "63338a73",
   "metadata": {},
   "outputs": [],
   "source": [
    "# Create a generated dataset of gait data on a two second window for \n",
    "def generate_simulated_window(healthy: bool=True):\n",
    "    '''\n",
    "    Generate a simulated window of gait data for a healthy or stroke subject.\n",
    "    healthy (bool): Boolean value indicating healthy or stroke subject\n",
    "    '''\n",
    "    fs = 100\n",
    "    left = simulate_gait_signal(amplitude=50, freq=1.0, phase_shift=0.0, noise=2.0)\n",
    "    if healthy:\n",
    "        right = simulate_gait_signal(amplitude=50, freq=1.0, phase_shift=0.0, noise=2.0)\n",
    "    else:\n",
    "        right = simulate_gait_signal(amplitude=35, freq=1.0, phase_shift=0.1, noise=2.0)\n",
    "    \n",
    "    left_peaks, _ = find_peaks(left, height=10, distance=30)\n",
    "    right_peaks, _ = find_peaks(right, height=10, distance=30)\n",
    "\n",
    "    left_stride_times = np.diff(left_peaks)\n",
    "    right_stride_times = np.diff(right_peaks)\n",
    "\n",
    "    asym = asymmetry_index(left_stride_times, right_stride_times)\n",
    "    sym = symmetry_ratio(left_stride_times, right_stride_times)\n",
    "\n",
    "    return {\n",
    "        \"left\": left,\n",
    "        \"right\": right,\n",
    "        \"asymmetry_index\": summarize(asym),\n",
    "        \"symmetry_ratio\": summarize(sym)\n",
    "    }"
   ]
  },
  {
   "cell_type": "code",
   "execution_count": null,
   "id": "aa860987",
   "metadata": {},
   "outputs": [],
   "source": [
    "# Load the model and the scaler\n",
    "model = joblib.load('/Users/stamatiosorphanos/Documents/GaitRehab/models/classification_logistic_regression.pkl')\n",
    "scaler = joblib.load('/Users/stamatiosorphanos/Documents/GaitRehab/models/classification_scaler.pkl')\n",
    "\n",
    "print('Input features:', model.n_features_in_)\n",
    "print('Classes:', model.classes_)"
   ]
  },
  {
   "cell_type": "code",
   "execution_count": null,
   "id": "1c0b47a2",
   "metadata": {},
   "outputs": [],
   "source": [
    "# ## Load Trained Model from CSV Features\n",
    "# Load the detection_asymmetry dataset and train a model\n",
    "df = pd.read_csv(\"detection_asymmetry.csv\")\n",
    "df = df[df['label_lenient'] != 2].copy()\n",
    "\n",
    "# Clean stringified list values\n",
    "def clean_feature(x):\n",
    "    try:\n",
    "        return float(str(x).strip(\"[]\").split(\",\")[0])\n",
    "    except:\n",
    "        return np.nan\n",
    "\n",
    "df['gyro-asymmetry-stride-times'] = df['gyro-asymmetry-stride-times'].apply(clean_feature)\n",
    "df['gyro-symmetry-ratio-stride-times'] = df['gyro-symmetry-ratio-stride-times'].apply(clean_feature)\n",
    "\n",
    "features = ['gyro-asymmetry-stride-times', 'gyro-symmetry-ratio-stride-times']\n",
    "X_train = df[features].values\n",
    "y_train = df['label_lenient'].values\n",
    "\n",
    "model = LogisticRegression(max_iter=1000)\n",
    "model.fit(X_train, y_train)\n",
    "\n",
    "\n",
    "\n",
    "# ## Generate Simulated Left and Right Gait Signals\n",
    "\n",
    "\n",
    "# ## Run Simulation\n",
    "def run_simulation(label=\"healthy\"):\n",
    "    healthy = label.lower() == \"healthy\"\n",
    "    win = generate_simulated_window(healthy=healthy)\n",
    "\n",
    "    print(f\"Asymmetry Index (mean): {win['asymmetry_index']:.4f}\")\n",
    "    print(f\"Symmetry Ratio (mean): {win['symmetry_ratio']:.4f}\")\n",
    "\n",
    "    features = np.array([[win['asymmetry_index'], win['symmetry_ratio']]])\n",
    "    pred = model.predict(features)[0]\n",
    "    label_pred = \"ASYMMETRIC\" if pred == 1 else \"SYMMETRIC\"\n",
    "\n",
    "    print(f\"Predicted Gait State: {label_pred}\")\n",
    "\n",
    "    # Plot\n",
    "    plt.figure(figsize=(10, 4))\n",
    "    plt.plot(win['left'], label='Left Shank')\n",
    "    plt.plot(win['right'], label='Right Shank')\n",
    "    plt.title(f\"Simulated Gait — Prediction: {label_pred}\")\n",
    "    plt.xlabel(\"Time steps\")\n",
    "    plt.ylabel(\"Rotation (deg/s)\")\n",
    "    plt.legend()\n",
    "    plt.grid(True)\n",
    "    plt.show()\n",
    "\n",
    "# ## Demo: Simulate Healthy and Stroke Gait\n",
    "print(\"Simulating Healthy Gait\")\n",
    "run_simulation(label=\"healthy\")\n",
    "\n",
    "print(\"\\\\nSimulating Stroke (Asymmetric) Gait\")\n",
    "run_simulation(label=\"stroke\")"
   ]
  }
 ],
 "metadata": {
  "language_info": {
   "name": "python"
  }
 },
 "nbformat": 4,
 "nbformat_minor": 5
}
