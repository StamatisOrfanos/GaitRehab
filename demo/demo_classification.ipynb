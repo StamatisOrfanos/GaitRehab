{
 "cells": [
  {
   "cell_type": "markdown",
   "id": "8c63f2b7",
   "metadata": {},
   "source": [
    "# Demo for Classification Model Task"
   ]
  },
  {
   "cell_type": "markdown",
   "id": "c1b923e5",
   "metadata": {},
   "source": [
    "The current notebook is going to be a demo of the classification model capabilities, while also being used as the initial steps for the creation of the pipeline of the deployed version."
   ]
  },
  {
   "cell_type": "code",
   "execution_count": null,
   "id": "eae32238",
   "metadata": {},
   "outputs": [],
   "source": [
    "# Import libraries\n",
    "import numpy as np\n",
    "import pandas as pd\n",
    "import matplotlib.pyplot as plt\n",
    "import seaborn as sns\n",
    "import sys\n",
    "import pickle, joblib\n",
    "\n",
    "\n",
    "sys.path.insert(0, '..')\n",
    "\n",
    "import support_functions"
   ]
  },
  {
   "cell_type": "markdown",
   "id": "ccdac84a",
   "metadata": {},
   "source": [
    "## Simple Mock Gait Cycle data from Gyroscope"
   ]
  },
  {
   "cell_type": "code",
   "execution_count": 2,
   "id": "25693236",
   "metadata": {},
   "outputs": [],
   "source": [
    "\n",
    "def simulate_custom_gait_signal(duration_sec: int=60 , fs: int=100, freq: int=1.2, stroke: bool=False, noise_std: float=0.05):\n",
    "    '''\n",
    "    Simulate custom gait signals for stroke and healthy individuals.\n",
    "    Args:\n",
    "        duration_sec (int): Duration of the signal in seconds.\n",
    "        fs (int): Sampling frequency in Hz.\n",
    "        freq (float): Frequency of the sine wave.\n",
    "        stroke (bool): If True, simulate stroke condition.\n",
    "        noise_std (float): Standard deviation of the noise.\n",
    "    '''\n",
    "    t = np.linspace(0, duration_sec, int(duration_sec * fs))\n",
    "    \n",
    "    # Define target peak values\n",
    "    if stroke:\n",
    "        max_val   = 300\n",
    "        amp_right = 200\n",
    "    else:\n",
    "        max_val   = 450\n",
    "        amp_right = 420\n",
    "    \n",
    "    # Simulate left and right signals (right affected in stroke)\n",
    "    left_z  = (max_val / 2) * np.sin(2 * np.pi * freq * t) + np.random.normal(0, noise_std * max_val, size=t.shape)\n",
    "    right_z = (amp_right / 2) * np.sin(2 * np.pi * freq * t + (0.2 if stroke else 0)) + np.random.normal(0, noise_std * amp_right, size=t.shape)\n",
    "\n",
    "    # Return DataFrame\n",
    "    dataframe = pd.DataFrame({\n",
    "        'timestamp (+0700)': pd.date_range('2024-01-01 00:00:00', periods=len(t), freq=f'{int(1000/fs)}ms'),\n",
    "        'left-z-axis (deg/s)': left_z,\n",
    "        'right-z-axis (deg/s)': right_z\n",
    "    })\n",
    "    return dataframe\n",
    "\n",
    "# Generate example stroke and healthy signals\n",
    "stroke_df = simulate_custom_gait_signal(stroke=True)\n",
    "healthy_df = simulate_custom_gait_signal(stroke=False)"
   ]
  },
  {
   "cell_type": "markdown",
   "id": "e531a285",
   "metadata": {},
   "source": [
    "## Load the Linear Regression Classification Model "
   ]
  },
  {
   "cell_type": "code",
   "execution_count": null,
   "id": "0ef7f85d",
   "metadata": {},
   "outputs": [],
   "source": [
    "model = joblib.load('/Users/stamatiosorphanos/Documents/GaitRehab/models/classification_logistic_regression.pkl')\n",
    "print('Input features:', model.n_features_in_)\n",
    "print('Classes:', model.classes_)"
   ]
  },
  {
   "cell_type": "markdown",
   "id": "77c0ae84",
   "metadata": {},
   "source": [
    "### Healthy Subject Prediction "
   ]
  },
  {
   "cell_type": "code",
   "execution_count": null,
   "id": "554e0667",
   "metadata": {},
   "outputs": [
    {
     "data": {
      "text/plain": [
       "[-270.06457039727627,\n",
       " -302.44746407166417,\n",
       " 265.3970246795004,\n",
       " 295.76964360518025]"
      ]
     },
     "execution_count": 3,
     "metadata": {},
     "output_type": "execute_result"
    }
   ],
   "source": [
    "model_input = support_functions.time_domain_features(healthy_df)"
   ]
  },
  {
   "cell_type": "code",
   "execution_count": null,
   "id": "fe985e66",
   "metadata": {},
   "outputs": [
    {
     "data": {
      "application/vnd.microsoft.datawrangler.viewer.v0+json": {
       "columns": [
        {
         "name": "index",
         "rawType": "int64",
         "type": "integer"
        },
        {
         "name": "timestamp (+0700)",
         "rawType": "datetime64[ns]",
         "type": "datetime"
        },
        {
         "name": "left-z-axis (deg/s)",
         "rawType": "float64",
         "type": "float"
        },
        {
         "name": "right-z-axis (deg/s)",
         "rawType": "float64",
         "type": "float"
        }
       ],
       "ref": "1bf9ce31-a3e7-4aef-9a66-e1b1b0fc8407",
       "rows": [
        [
         "0",
         "2024-01-01 00:00:00",
         "20.3632297298927",
         "15.881662921398938"
        ],
        [
         "1",
         "2024-01-01 00:00:00.010000",
         "34.01039849207764",
         "-21.81633734192215"
        ],
        [
         "2",
         "2024-01-01 00:00:00.020000",
         "-6.300542136814485",
         "10.403565586771123"
        ],
        [
         "3",
         "2024-01-01 00:00:00.030000",
         "81.58865192941346",
         "29.681843284908336"
        ],
        [
         "4",
         "2024-01-01 00:00:00.040000",
         "36.89896682952971",
         "44.694441067823846"
        ],
        [
         "5",
         "2024-01-01 00:00:00.050000",
         "82.4117138366268",
         "78.7145089207282"
        ],
        [
         "6",
         "2024-01-01 00:00:00.060000",
         "105.7610176945418",
         "68.46774699027534"
        ],
        [
         "7",
         "2024-01-01 00:00:00.070000",
         "136.19893031584616",
         "85.6908344203021"
        ],
        [
         "8",
         "2024-01-01 00:00:00.080000",
         "150.11776147013794",
         "120.56223984896816"
        ],
        [
         "9",
         "2024-01-01 00:00:00.090000",
         "157.9702271896764",
         "122.30316201640814"
        ],
        [
         "10",
         "2024-01-01 00:00:00.100000",
         "150.08593448141988",
         "130.59136226222398"
        ],
        [
         "11",
         "2024-01-01 00:00:00.110000",
         "186.9519887334095",
         "120.45394094003213"
        ],
        [
         "12",
         "2024-01-01 00:00:00.120000",
         "166.77310383453042",
         "137.30498100046768"
        ],
        [
         "13",
         "2024-01-01 00:00:00.130000",
         "193.284215760123",
         "151.7686861975856"
        ],
        [
         "14",
         "2024-01-01 00:00:00.140000",
         "210.4668631293658",
         "220.60710444692305"
        ],
        [
         "15",
         "2024-01-01 00:00:00.150000",
         "188.3392656882139",
         "172.53231513060734"
        ],
        [
         "16",
         "2024-01-01 00:00:00.160000",
         "199.72726016282215",
         "206.89445080616795"
        ],
        [
         "17",
         "2024-01-01 00:00:00.170000",
         "228.1603660971925",
         "207.93379975331084"
        ],
        [
         "18",
         "2024-01-01 00:00:00.180000",
         "225.80585592045054",
         "208.66383305735314"
        ],
        [
         "19",
         "2024-01-01 00:00:00.190000",
         "237.7826097406831",
         "195.04675693728487"
        ],
        [
         "20",
         "2024-01-01 00:00:00.200000",
         "217.72073061509127",
         "172.4929325720689"
        ],
        [
         "21",
         "2024-01-01 00:00:00.210000",
         "221.84471279475147",
         "224.43450918447724"
        ],
        [
         "22",
         "2024-01-01 00:00:00.220000",
         "190.54772034318472",
         "204.57603105367008"
        ],
        [
         "23",
         "2024-01-01 00:00:00.230000",
         "253.0875959808388",
         "217.0358404604471"
        ],
        [
         "24",
         "2024-01-01 00:00:00.240000",
         "214.33172927633152",
         "169.2396129918568"
        ],
        [
         "25",
         "2024-01-01 00:00:00.250000",
         "176.32328853121408",
         "229.90155395162267"
        ],
        [
         "26",
         "2024-01-01 00:00:00.260000",
         "229.91169581879154",
         "195.1597006476198"
        ],
        [
         "27",
         "2024-01-01 00:00:00.270000",
         "194.50019620434554",
         "149.61251038418035"
        ],
        [
         "28",
         "2024-01-01 00:00:00.280000",
         "174.78344415294538",
         "150.19909476588387"
        ],
        [
         "29",
         "2024-01-01 00:00:00.290000",
         "187.11449744186476",
         "148.4385352459833"
        ],
        [
         "30",
         "2024-01-01 00:00:00.300000",
         "198.52625118632153",
         "125.58846912149296"
        ],
        [
         "31",
         "2024-01-01 00:00:00.310000",
         "129.7754041777612",
         "123.35878461642642"
        ],
        [
         "32",
         "2024-01-01 00:00:00.320000",
         "176.13658967603786",
         "110.42790896653995"
        ],
        [
         "33",
         "2024-01-01 00:00:00.330000",
         "110.76917754274588",
         "115.99610484533287"
        ],
        [
         "34",
         "2024-01-01 00:00:00.340000",
         "102.47419708352604",
         "118.70813050389731"
        ],
        [
         "35",
         "2024-01-01 00:00:00.350000",
         "75.8516102696861",
         "111.82138262332407"
        ],
        [
         "36",
         "2024-01-01 00:00:00.360000",
         "67.99992909273278",
         "47.37930431575872"
        ],
        [
         "37",
         "2024-01-01 00:00:00.370000",
         "75.75087286321119",
         "21.28881610026029"
        ],
        [
         "38",
         "2024-01-01 00:00:00.380000",
         "73.49241088425221",
         "63.23863420223527"
        ],
        [
         "39",
         "2024-01-01 00:00:00.390000",
         "47.153318199145495",
         "30.396382839356917"
        ],
        [
         "40",
         "2024-01-01 00:00:00.400000",
         "-0.603105891269518",
         "21.09166712879812"
        ],
        [
         "41",
         "2024-01-01 00:00:00.410000",
         "7.353847445857525",
         "18.012590201397806"
        ],
        [
         "42",
         "2024-01-01 00:00:00.420000",
         "14.487739007317872",
         "38.51348774111041"
        ],
        [
         "43",
         "2024-01-01 00:00:00.430000",
         "-42.870539400229475",
         "-43.72813990764442"
        ],
        [
         "44",
         "2024-01-01 00:00:00.440000",
         "-15.691947394075445",
         "-36.81960706114978"
        ],
        [
         "45",
         "2024-01-01 00:00:00.450000",
         "-30.86698889862055",
         "-40.55432537201647"
        ],
        [
         "46",
         "2024-01-01 00:00:00.460000",
         "-86.90479549729395",
         "-59.53390700786848"
        ],
        [
         "47",
         "2024-01-01 00:00:00.470000",
         "-75.75174546435832",
         "-98.83309395487407"
        ],
        [
         "48",
         "2024-01-01 00:00:00.480000",
         "-84.0759739629878",
         "-67.91628229212716"
        ],
        [
         "49",
         "2024-01-01 00:00:00.490000",
         "-129.10787228000652",
         "-127.94885064810052"
        ]
       ],
       "shape": {
        "columns": 3,
        "rows": 6000
       }
      },
      "text/html": [
       "<div>\n",
       "<style scoped>\n",
       "    .dataframe tbody tr th:only-of-type {\n",
       "        vertical-align: middle;\n",
       "    }\n",
       "\n",
       "    .dataframe tbody tr th {\n",
       "        vertical-align: top;\n",
       "    }\n",
       "\n",
       "    .dataframe thead th {\n",
       "        text-align: right;\n",
       "    }\n",
       "</style>\n",
       "<table border=\"1\" class=\"dataframe\">\n",
       "  <thead>\n",
       "    <tr style=\"text-align: right;\">\n",
       "      <th></th>\n",
       "      <th>timestamp (+0700)</th>\n",
       "      <th>left-z-axis (deg/s)</th>\n",
       "      <th>right-z-axis (deg/s)</th>\n",
       "    </tr>\n",
       "  </thead>\n",
       "  <tbody>\n",
       "    <tr>\n",
       "      <th>0</th>\n",
       "      <td>2024-01-01 00:00:00.000</td>\n",
       "      <td>20.363230</td>\n",
       "      <td>15.881663</td>\n",
       "    </tr>\n",
       "    <tr>\n",
       "      <th>1</th>\n",
       "      <td>2024-01-01 00:00:00.010</td>\n",
       "      <td>34.010398</td>\n",
       "      <td>-21.816337</td>\n",
       "    </tr>\n",
       "    <tr>\n",
       "      <th>2</th>\n",
       "      <td>2024-01-01 00:00:00.020</td>\n",
       "      <td>-6.300542</td>\n",
       "      <td>10.403566</td>\n",
       "    </tr>\n",
       "    <tr>\n",
       "      <th>3</th>\n",
       "      <td>2024-01-01 00:00:00.030</td>\n",
       "      <td>81.588652</td>\n",
       "      <td>29.681843</td>\n",
       "    </tr>\n",
       "    <tr>\n",
       "      <th>4</th>\n",
       "      <td>2024-01-01 00:00:00.040</td>\n",
       "      <td>36.898967</td>\n",
       "      <td>44.694441</td>\n",
       "    </tr>\n",
       "    <tr>\n",
       "      <th>...</th>\n",
       "      <td>...</td>\n",
       "      <td>...</td>\n",
       "      <td>...</td>\n",
       "    </tr>\n",
       "    <tr>\n",
       "      <th>5995</th>\n",
       "      <td>2024-01-01 00:00:59.950</td>\n",
       "      <td>-42.455550</td>\n",
       "      <td>-47.061242</td>\n",
       "    </tr>\n",
       "    <tr>\n",
       "      <th>5996</th>\n",
       "      <td>2024-01-01 00:00:59.960</td>\n",
       "      <td>-24.541417</td>\n",
       "      <td>-58.268253</td>\n",
       "    </tr>\n",
       "    <tr>\n",
       "      <th>5997</th>\n",
       "      <td>2024-01-01 00:00:59.970</td>\n",
       "      <td>-33.688494</td>\n",
       "      <td>-43.956626</td>\n",
       "    </tr>\n",
       "    <tr>\n",
       "      <th>5998</th>\n",
       "      <td>2024-01-01 00:00:59.980</td>\n",
       "      <td>-51.963879</td>\n",
       "      <td>9.170632</td>\n",
       "    </tr>\n",
       "    <tr>\n",
       "      <th>5999</th>\n",
       "      <td>2024-01-01 00:00:59.990</td>\n",
       "      <td>-19.288078</td>\n",
       "      <td>41.648371</td>\n",
       "    </tr>\n",
       "  </tbody>\n",
       "</table>\n",
       "<p>6000 rows × 3 columns</p>\n",
       "</div>"
      ],
      "text/plain": [
       "           timestamp (+0700)  left-z-axis (deg/s)  right-z-axis (deg/s)\n",
       "0    2024-01-01 00:00:00.000            20.363230             15.881663\n",
       "1    2024-01-01 00:00:00.010            34.010398            -21.816337\n",
       "2    2024-01-01 00:00:00.020            -6.300542             10.403566\n",
       "3    2024-01-01 00:00:00.030            81.588652             29.681843\n",
       "4    2024-01-01 00:00:00.040            36.898967             44.694441\n",
       "...                      ...                  ...                   ...\n",
       "5995 2024-01-01 00:00:59.950           -42.455550            -47.061242\n",
       "5996 2024-01-01 00:00:59.960           -24.541417            -58.268253\n",
       "5997 2024-01-01 00:00:59.970           -33.688494            -43.956626\n",
       "5998 2024-01-01 00:00:59.980           -51.963879              9.170632\n",
       "5999 2024-01-01 00:00:59.990           -19.288078             41.648371\n",
       "\n",
       "[6000 rows x 3 columns]"
      ]
     },
     "execution_count": 8,
     "metadata": {},
     "output_type": "execute_result"
    }
   ],
   "source": []
  },
  {
   "cell_type": "code",
   "execution_count": null,
   "id": "94ea058e",
   "metadata": {},
   "outputs": [
    {
     "name": "stdout",
     "output_type": "stream",
     "text": [
      "Input features: 4\n",
      "Classes: [0 1]\n"
     ]
    }
   ],
   "source": []
  }
 ],
 "metadata": {
  "kernelspec": {
   "display_name": "Python 3",
   "language": "python",
   "name": "python3"
  },
  "language_info": {
   "codemirror_mode": {
    "name": "ipython",
    "version": 3
   },
   "file_extension": ".py",
   "mimetype": "text/x-python",
   "name": "python",
   "nbconvert_exporter": "python",
   "pygments_lexer": "ipython3",
   "version": "3.10.11"
  }
 },
 "nbformat": 4,
 "nbformat_minor": 5
}
