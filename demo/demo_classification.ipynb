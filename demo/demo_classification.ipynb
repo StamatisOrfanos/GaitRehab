{
 "cells": [
  {
   "cell_type": "markdown",
   "id": "8c63f2b7",
   "metadata": {},
   "source": [
    "# Demo for Classification Model Task"
   ]
  },
  {
   "cell_type": "markdown",
   "id": "c1b923e5",
   "metadata": {},
   "source": [
    "The current notebook is going to be a demo of the classification model capabilities, while also being used as the initial steps for the creation of the pipeline of the deployed version."
   ]
  },
  {
   "cell_type": "code",
   "execution_count": 18,
   "id": "eae32238",
   "metadata": {},
   "outputs": [],
   "source": [
    "# Import libraries\n",
    "import numpy as np\n",
    "import pandas as pd\n",
    "import matplotlib.pyplot as plt\n",
    "import seaborn as sns\n",
    "import sys\n",
    "import pickle, joblib\n",
    "sys.path.insert(0, '..')\n",
    "\n",
    "import support_functions"
   ]
  },
  {
   "cell_type": "markdown",
   "id": "ccdac84a",
   "metadata": {},
   "source": [
    "## Simple Mock Gait Cycle data from Gyroscope"
   ]
  },
  {
   "cell_type": "code",
   "execution_count": 19,
   "id": "25693236",
   "metadata": {},
   "outputs": [],
   "source": [
    "\n",
    "def simulate_custom_gait_signal(duration_sec: int=60 , fs: int=100, freq: int=1.2, stroke: bool=False, noise_std: float=0.05):\n",
    "    '''\n",
    "    Simulate custom gait signals for stroke and healthy individuals.\n",
    "    Args:\n",
    "        duration_sec (int): Duration of the signal in seconds.\n",
    "        fs (int): Sampling frequency in Hz.\n",
    "        freq (float): Frequency of the sine wave.\n",
    "        stroke (bool): If True, simulate stroke condition.\n",
    "        noise_std (float): Standard deviation of the noise.\n",
    "    '''\n",
    "    t = np.linspace(0, duration_sec, int(duration_sec * fs))\n",
    "    \n",
    "    # Define target peak values\n",
    "    if stroke:\n",
    "        max_val   = 300\n",
    "        amp_right = 200\n",
    "    else:\n",
    "        max_val   = 450\n",
    "        amp_right = 420\n",
    "    \n",
    "    # Simulate left and right signals (right affected in stroke)\n",
    "    left_z  = (max_val / 2) * np.sin(2 * np.pi * freq * t) + np.random.normal(0, noise_std * max_val, size=t.shape)\n",
    "    right_z = (amp_right / 2) * np.sin(2 * np.pi * freq * t + (0.2 if stroke else 0)) + np.random.normal(0, noise_std * amp_right, size=t.shape)\n",
    "\n",
    "    # Return DataFrame\n",
    "    dataframe = pd.DataFrame({\n",
    "        'timestamp (+0700)': pd.date_range('2024-01-01 00:00:00', periods=len(t), freq=f'{int(1000/fs)}ms'),\n",
    "        'left-z-axis (deg/s)': left_z,\n",
    "        'right-z-axis (deg/s)': right_z\n",
    "    })\n",
    "    return dataframe"
   ]
  },
  {
   "cell_type": "markdown",
   "id": "e531a285",
   "metadata": {},
   "source": [
    "## Load the Linear Regression Classification Model "
   ]
  },
  {
   "cell_type": "code",
   "execution_count": 20,
   "id": "0ef7f85d",
   "metadata": {},
   "outputs": [
    {
     "name": "stdout",
     "output_type": "stream",
     "text": [
      "Input features: 4\n",
      "Classes: [0 1]\n"
     ]
    }
   ],
   "source": [
    "# Load the model and the scaler\n",
    "model = joblib.load('/Users/stamatiosorphanos/Documents/GaitRehab/models/classification_logistic_regression.pkl')\n",
    "scaler = joblib.load('/Users/stamatiosorphanos/Documents/GaitRehab/models/classification_scaler.pkl')\n",
    "\n",
    "print('Input features:', model.n_features_in_)\n",
    "print('Classes:', model.classes_)"
   ]
  },
  {
   "cell_type": "markdown",
   "id": "77c0ae84",
   "metadata": {},
   "source": [
    "### Healthy Subject Prediction "
   ]
  },
  {
   "cell_type": "code",
   "execution_count": 21,
   "id": "554e0667",
   "metadata": {},
   "outputs": [
    {
     "name": "stdout",
     "output_type": "stream",
     "text": [
      "The mock raw Gyroscope data is:         timestamp (+0700)  left-z-axis (deg/s)  right-z-axis (deg/s)\n",
      "0 2024-01-01 00:00:00.000             7.463139            -22.224477\n",
      "1 2024-01-01 00:00:00.010           -12.254010             12.756597\n",
      "2 2024-01-01 00:00:00.020            19.431611             42.267329\n",
      "3 2024-01-01 00:00:00.030            60.264337             -0.391846\n",
      "4 2024-01-01 00:00:00.040            80.334248              6.479257\n",
      "\n",
      "Raw input features: [-269.3534933420498, -288.18783926502584, 282.80648182675566, 290.1240077285966]\n",
      "\n",
      "Scaled input features: [[-0.71240051 -0.93527306 -0.47841718 -0.7406694 ]]\n",
      "Predicted class: 1 — Probability of asymmetry: 0.50 - Probability of symmetry: 0.50\n"
     ]
    }
   ],
   "source": [
    "# Create the mock raw gyroscope data, get the features we use during the training and scale them for prediction\n",
    "healthy_df = simulate_custom_gait_signal(stroke=False)\n",
    "print('The mock raw Gyroscope data is:', healthy_df.head())\n",
    "\n",
    "# Get the features used for training min, max for the z-axis of the gyroscope\n",
    "raw_features = support_functions.time_domain_features(healthy_df)\n",
    "print(\"\\nRaw input features:\", raw_features)\n",
    "\n",
    "\n",
    "# Scale the features\n",
    "raw_dict = {'right-z-axis-(deg/s)-min': [raw_features[0]], 'left-z-axis-(deg/s)-min' : [raw_features[1]], \n",
    "            'right-z-axis-(deg/s)-max': [raw_features[2]], 'left-z-axis-(deg/s)-max' : [raw_features[3]]}\n",
    "raw_data = pd.DataFrame(raw_dict)\n",
    "X_input = scaler.transform(raw_data)\n",
    "print(\"\\nScaled input features:\", X_input)\n",
    "\n",
    "# Predict the class and the probability of asymmetry\n",
    "y_pred = model.predict(X_input)[0]\n",
    "y_prob = model.predict_proba(X_input)[0][1] \n",
    "\n",
    "print(f'Predicted class: {y_pred} — Probability of asymmetry: {y_prob:.2f} - Probability of symmetry: {1-y_prob:.2f}')"
   ]
  },
  {
   "cell_type": "code",
   "execution_count": null,
   "id": "da39d462",
   "metadata": {},
   "outputs": [],
   "source": [
    "import matplotlib.pyplot as plt\n",
    "\n",
    "plt.figure(figsize=(12, 4))\n",
    "plt.plot(healthy_df[\"left-z-axis (deg/s)\"], label=\"Left Z\")\n",
    "plt.plot(healthy_df[\"right-z-axis (deg/s)\"], label=\"Right Z\")\n",
    "plt.title(f\"Prediction: {'Asymmetric' if y_pred == 1 else 'Symmetric'} (prob={y_prob:.2f})\")\n",
    "plt.xlabel(\"Time (samples)\")\n",
    "plt.ylabel(\"Deg/s\")\n",
    "plt.legend()\n",
    "plt.grid(True)\n",
    "plt.show()"
   ]
  },
  {
   "cell_type": "markdown",
   "id": "a74636e4",
   "metadata": {},
   "source": [
    "### Stroke Subject Prediction "
   ]
  },
  {
   "cell_type": "code",
   "execution_count": 22,
   "id": "fe985e66",
   "metadata": {},
   "outputs": [
    {
     "name": "stdout",
     "output_type": "stream",
     "text": [
      "The mock raw Gyroscope data is:         timestamp (+0700)  left-z-axis (deg/s)  right-z-axis (deg/s)\n",
      "0 2024-01-01 00:00:00.000             9.377646             13.901287\n",
      "1 2024-01-01 00:00:00.010            -3.657342             27.238482\n",
      "2 2024-01-01 00:00:00.020            13.430461             36.780463\n",
      "3 2024-01-01 00:00:00.030            31.500940             21.393730\n",
      "4 2024-01-01 00:00:00.040            13.536458             62.375495\n",
      "\n",
      "Raw input features: [-123.81779878179297, -196.17729043786903, 130.15865550916763, 199.38953768711676]\n",
      "\n",
      "Scaled input features: [[ 1.08657775  0.32807282 -1.91711927 -1.83344322]]\n",
      "Predicted class: 1 — Probability of asymmetry: 0.99 - Probability of symmetry: 0.01\n"
     ]
    }
   ],
   "source": [
    "# Create the mock raw gyroscope data, get the features we use during the training and scale them for prediction\n",
    "stroke_df = simulate_custom_gait_signal(stroke=True)\n",
    "print('The mock raw Gyroscope data is:', stroke_df.head())\n",
    "\n",
    "# Get the features used for training min, max for the z-axis of the gyroscope\n",
    "raw_features = support_functions.time_domain_features(stroke_df)\n",
    "print(\"\\nRaw input features:\", raw_features)\n",
    "\n",
    "\n",
    "# Scale the features\n",
    "raw_dict = {'right-z-axis-(deg/s)-min': [raw_features[0]], 'left-z-axis-(deg/s)-min' : [raw_features[1]], \n",
    "            'right-z-axis-(deg/s)-max': [raw_features[2]], 'left-z-axis-(deg/s)-max' : [raw_features[3]]}\n",
    "raw_data = pd.DataFrame(raw_dict)\n",
    "X_input = scaler.transform(raw_data)\n",
    "print(\"\\nScaled input features:\", X_input)\n",
    "\n",
    "# Predict the class and the probability of asymmetry\n",
    "y_pred = model.predict(X_input)[0]\n",
    "y_prob = model.predict_proba(X_input)[0][1] \n",
    "\n",
    "print(f'Predicted class: {y_pred} — Probability of asymmetry: {y_prob:.2f} - Probability of symmetry: {1-y_prob:.2f}')"
   ]
  }
 ],
 "metadata": {
  "kernelspec": {
   "display_name": "Python 3",
   "language": "python",
   "name": "python3"
  },
  "language_info": {
   "codemirror_mode": {
    "name": "ipython",
    "version": 3
   },
   "file_extension": ".py",
   "mimetype": "text/x-python",
   "name": "python",
   "nbconvert_exporter": "python",
   "pygments_lexer": "ipython3",
   "version": "3.10.11"
  }
 },
 "nbformat": 4,
 "nbformat_minor": 5
}
