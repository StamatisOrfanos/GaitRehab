{
 "cells": [
  {
   "cell_type": "markdown",
   "metadata": {},
   "source": [
    "# GaitRehab Explanatory Data Analysis"
   ]
  },
  {
   "cell_type": "code",
   "execution_count": 2,
   "metadata": {},
   "outputs": [],
   "source": [
    "# Libraries\n",
    "import os, sys, math, random, time\n",
    "import numpy as np\n",
    "import matplotlib.pyplot as plt\n",
    "import pandas as pd\n",
    "\n",
    "# Constants\n",
    "data_path = \"/Users/stamatiosorphanos/Documents/GaitRehab_Models/data\""
   ]
  },
  {
   "cell_type": "markdown",
   "metadata": {},
   "source": [
    "## Inertial Measurement Unit - IMU EDA\n",
    "\n",
    "1. ELT process and standarization of data format\n",
    "2. Plot data and provide explorations\n"
   ]
  },
  {
   "cell_type": "code",
   "execution_count": 5,
   "metadata": {},
   "outputs": [
    {
     "name": "stdout",
     "output_type": "stream",
     "text": [
      "/Users/stamatiosorphanos/Documents/GaitRehab_Models/data/Healthy\n",
      "/Users/stamatiosorphanos/Documents/GaitRehab_Models/data/Healthy/Patient_1\n",
      "Vicon_Trial02.csv\n",
      "Vicon_\n",
      "/Users/stamatiosorphanos/Documents/GaitRehab_Models/data/Healthy/Patient_1/IMU\n",
      "E3_2022_01_19T10.53.38.171_FB7D6148EEE3_Accelerometer.csv\n",
      "E3-2022-01-19\n",
      "Meta4_7D_2022_01_19T10.53.38.171_D2DC12F387FB_Gyroscope.csv\n",
      "Meta4 7D-2022-01-19\n",
      "CF_2022_01_19T10.53.38.171_D26534B09ECF_Accelerometer.csv\n",
      "CF-2022-01-19\n",
      "Meta1_2022_01_19T10.53.38.171_D71B3D900A76_Gyroscope.csv\n",
      "Meta1-2022-01-19\n",
      "Meta1_2022_01_19T10.53.38.171_D71B3D900A76_Accelerometer.csv\n",
      "Meta1-2022-01-19\n",
      "3D_2022_01_19T10.53.38.171_F0794D73E83D_Accelerometer.csv\n",
      "3D-2022-01-19\n",
      "CF_2022_01_19T10.53.38.171_D26534B09ECF_Gyroscope.csv\n",
      "CF-2022-01-19\n",
      "MetaWear_2022_01_19T10.53.38.171_D70A7F8252C8_Accelerometer.csv\n",
      "MetaWear-2022-01-19\n",
      "E3_2022_01_19T10.53.38.171_FB7D6148EEE3_Gyroscope.csv\n",
      "E3-2022-01-19\n",
      "Meta4_7D_2022_01_19T10.53.38.171_D2DC12F387FB_Accelerometer.csv\n",
      "Meta4 7D-2022-01-19\n",
      "3D_2022_01_19T10.53.38.171_F0794D73E83D_Gyroscope.csv\n",
      "3D-2022-01-19\n",
      "MetaWear_2022_01_19T10.53.38.171_D70A7F8252C8_Gyroscope.csv\n",
      "MetaWear-2022-01-19\n",
      "/Users/stamatiosorphanos/Documents/GaitRehab_Models/data/Healthy/Patient_2\n"
     ]
    }
   ],
   "source": [
    "healthy_directory = os.path.join(data_path, \"Healthy\")\n",
    "stroke_directory  = os.path.join(data_path, \"Stroke\")\n",
    "\n",
    "for subdir, dirs, files in os.walk(healthy_directory):\n",
    "    print(subdir)\n",
    "    for file in files:\n",
    "        file_path = os.path.join(healthy_directory, file)\n",
    "        formatted_name = file.replace(\" \", \"_\").replace(\"-\", \"_\")\n",
    "        print(formatted_name)\n",
    "        date = file.split(\"T\")[0]\n",
    "        print(date)\n",
    "        new_name = file.split(\"_\")[0] +  \".csv\"     \n",
    "    "
   ]
  }
 ],
 "metadata": {
  "kernelspec": {
   "display_name": "base",
   "language": "python",
   "name": "python3"
  },
  "language_info": {
   "codemirror_mode": {
    "name": "ipython",
    "version": 3
   },
   "file_extension": ".py",
   "mimetype": "text/x-python",
   "name": "python",
   "nbconvert_exporter": "python",
   "pygments_lexer": "ipython3",
   "version": "3.10.9"
  }
 },
 "nbformat": 4,
 "nbformat_minor": 2
}
