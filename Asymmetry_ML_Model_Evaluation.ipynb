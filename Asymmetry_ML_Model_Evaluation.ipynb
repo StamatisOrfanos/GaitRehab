{
 "cells": [
  {
   "cell_type": "code",
   "execution_count": null,
   "id": "6b729094",
   "metadata": {},
   "outputs": [],
   "source": [
    "# # Asymmetry-Based Model — Classical ML for Gait Detection"
   ]
  },
  {
   "cell_type": "code",
   "execution_count": null,
   "id": "b8fa9dd3",
   "metadata": {},
   "outputs": [],
   "source": [
    "import pandas as pd\n",
    "import numpy as np\n",
    "from sklearn.model_selection import GroupKFold\n",
    "from sklearn.metrics import classification_report, confusion_matrix\n",
    "from sklearn.linear_model import LogisticRegression\n",
    "from sklearn.ensemble import RandomForestClassifier, GradientBoostingClassifier\n",
    "from sklearn.svm import SVC\n",
    "import matplotlib.pyplot as plt\n",
    "import seaborn as sns"
   ]
  },
  {
   "cell_type": "code",
   "execution_count": null,
   "id": "14bebca4",
   "metadata": {},
   "outputs": [],
   "source": [
    "# ## Load Dataset\n",
    "df = pd.read_csv(\"detection_asymmetry.csv\")"
   ]
  },
  {
   "cell_type": "code",
   "execution_count": null,
   "id": "633e079f",
   "metadata": {},
   "outputs": [],
   "source": [
    "# ## Filter out undefined label = 2\n",
    "df = df[df['label_lenient'] != 2].copy()"
   ]
  },
  {
   "cell_type": "code",
   "execution_count": null,
   "id": "1bcad01d",
   "metadata": {},
   "outputs": [],
   "source": [
    "# ## Feature and Label Selection\n",
    "features = ['gyro-asymmetry-stride-times', 'gyro-symmetry-ratio-stride-times']\n",
    "X = df[features].values\n",
    "y = df['label_lenient'].values\n",
    "groups = df['patient_id'].values"
   ]
  },
  {
   "cell_type": "code",
   "execution_count": null,
   "id": "f69ad594",
   "metadata": {},
   "outputs": [],
   "source": [
    "# ## Define Models\n",
    "models = {\n",
    "    \"LogisticRegression\": LogisticRegression(max_iter=1000),\n",
    "    \"RandomForest\": RandomForestClassifier(n_estimators=100, random_state=42),\n",
    "    \"GradientBoosting\": GradientBoostingClassifier(),\n",
    "    \"SVC (RBF Kernel)\": SVC(kernel='rbf', probability=True)\n",
    "}"
   ]
  },
  {
   "cell_type": "code",
   "execution_count": null,
   "id": "175fd6bb",
   "metadata": {},
   "outputs": [],
   "source": [
    "# ## Evaluate Using GroupKFold\n",
    "gkf = GroupKFold(n_splits=5)\n",
    "results = {}"
   ]
  },
  {
   "cell_type": "code",
   "execution_count": null,
   "id": "0649e39e",
   "metadata": {},
   "outputs": [],
   "source": [
    "for name, model in models.items():\n",
    "    print(f\"\\nTraining model: {name}\")\n",
    "    y_true_all, y_pred_all = [], []"
   ]
  },
  {
   "cell_type": "code",
   "execution_count": null,
   "id": "5eac22a3",
   "metadata": {},
   "outputs": [],
   "source": [
    "for fold, (train_idx, test_idx) in enumerate(gkf.split(X, y, groups)):\n",
    "        model.fit(X[train_idx], y[train_idx])\n",
    "        y_pred = model.predict(X[test_idx])\n",
    "        y_true_all.extend(y[test_idx])\n",
    "        y_pred_all.extend(y_pred)"
   ]
  },
  {
   "cell_type": "code",
   "execution_count": null,
   "id": "ea1fe603",
   "metadata": {},
   "outputs": [],
   "source": [
    "report = classification_report(y_true_all, y_pred_all, digits=3, output_dict=True)\n",
    "    results[name] = report\n",
    "    print(classification_report(y_true_all, y_pred_all, digits=3))"
   ]
  },
  {
   "cell_type": "code",
   "execution_count": null,
   "id": "fd9d97a0",
   "metadata": {},
   "outputs": [],
   "source": [
    "# ## Visualize Confusion Matrix for Best Model\n",
    "best_model = max(results.items(), key=lambda kv: kv[1][\"1\"][\"f1-score\"])[0]\n",
    "print(f\"\\nBest model based on F1-score for class 1: {best_model}\")"
   ]
  },
  {
   "cell_type": "code",
   "execution_count": null,
   "id": "180d8924",
   "metadata": {},
   "outputs": [],
   "source": [
    "model = models[best_model]\n",
    "y_true_all, y_pred_all = [], []"
   ]
  },
  {
   "cell_type": "code",
   "execution_count": null,
   "id": "427439a0",
   "metadata": {},
   "outputs": [],
   "source": [
    "for train_idx, test_idx in gkf.split(X, y, groups):\n",
    "    model.fit(X[train_idx], y[train_idx])\n",
    "    y_pred = model.predict(X[test_idx])\n",
    "    y_true_all.extend(y[test_idx])\n",
    "    y_pred_all.extend(y_pred)"
   ]
  },
  {
   "cell_type": "code",
   "execution_count": null,
   "id": "3c2c7c37",
   "metadata": {},
   "outputs": [],
   "source": [
    "cm = confusion_matrix(y_true_all, y_pred_all)\n",
    "sns.heatmap(cm, annot=True, fmt=\"d\", cmap=\"Blues\", xticklabels=[\"Symmetric\", \"Asymmetric\"], yticklabels=[\"Symmetric\", \"Asymmetric\"])\n",
    "plt.title(f\"Confusion Matrix — {best_model}\")\n",
    "plt.xlabel(\"Predicted\")\n",
    "plt.ylabel(\"True\")\n",
    "plt.show()"
   ]
  }
 ],
 "metadata": {},
 "nbformat": 4,
 "nbformat_minor": 5
}
