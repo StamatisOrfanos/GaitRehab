{
 "cells": [
  {
   "cell_type": "markdown",
   "id": "c8174fda",
   "metadata": {},
   "source": [
    "# Real Time Gait Asymmetry Detection  \n",
    "\n",
    "In this notebook we are going to achieve the following:\n",
    "\n",
    "1. **Create the Training Dataset**: We will preprocess and combine data from different sources to create a comprehensive training dataset for real time gait asymmetry detection.\n",
    "2. **Feature Selection and Dimensionality Reduction**: We will identify the most relevant features for real time gait asymmetry detection using dimensionality reduction techniques.\n",
    "3. **Model Evaluation**: We will test and compare the performance of multiple machine learning and deep learning algorithms for real time gait asymmetry detection."
   ]
  },
  {
   "cell_type": "code",
   "execution_count": 1,
   "id": "0903db49",
   "metadata": {},
   "outputs": [],
   "source": [
    "# Libraries\n",
    "import os\n",
    "import pandas as pd\n",
    "import numpy as np\n",
    "import matplotlib.pyplot as plt\n",
    "import seaborn as sns\n",
    "from data_preprocessing import merge_data\n",
    "\n",
    "# Constants\n",
    "healthy_dir = 'Data/Healthy'\n",
    "stroke_dir = 'Data/Stroke'"
   ]
  },
  {
   "cell_type": "markdown",
   "id": "2c01b13f",
   "metadata": {},
   "source": [
    "## Data Preprocessing, Feature Selection and Dimensionality Reduction"
   ]
  },
  {
   "cell_type": "code",
   "execution_count": null,
   "id": "f427b6b6",
   "metadata": {},
   "outputs": [],
   "source": []
  }
 ],
 "metadata": {
  "kernelspec": {
   "display_name": "Python 3",
   "language": "python",
   "name": "python3"
  },
  "language_info": {
   "codemirror_mode": {
    "name": "ipython",
    "version": 3
   },
   "file_extension": ".py",
   "mimetype": "text/x-python",
   "name": "python",
   "nbconvert_exporter": "python",
   "pygments_lexer": "ipython3",
   "version": "3.10.11"
  }
 },
 "nbformat": 4,
 "nbformat_minor": 5
}
