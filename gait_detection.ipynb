{
 "cells": [
  {
   "cell_type": "markdown",
   "id": "c8174fda",
   "metadata": {},
   "source": [
    "# Real Time Gait Asymmetry Detection  \n",
    "\n",
    "In this notebook we are going to achieve the following:\n",
    "\n",
    "1. **Create the Training Dataset**: We will preprocess and combine data from different sources to create a comprehensive training dataset for real time gait asymmetry detection.\n",
    "2. **Feature Selection and Dimensionality Reduction**: We will identify the most relevant features for real time gait asymmetry detection using dimensionality reduction techniques.\n",
    "3. **Model Evaluation**: We will test and compare the performance of multiple machine learning and deep learning algorithms for real time gait asymmetry detection."
   ]
  },
  {
   "cell_type": "code",
   "execution_count": 1,
   "id": "0903db49",
   "metadata": {},
   "outputs": [],
   "source": [
    "# Libraries\n",
    "import os\n",
    "import pandas as pd\n",
    "import numpy as np\n",
    "import matplotlib.pyplot as plt\n",
    "import seaborn as sns\n",
    "from sklearn.model_selection import GroupKFold\n",
    "from sklearn.ensemble import RandomForestClassifier, GradientBoostingClassifier\n",
    "from sklearn.linear_model import LogisticRegression\n",
    "from sklearn.neural_network import MLPClassifier\n",
    "from sklearn.svm import SVC\n",
    "import xgboost as xgb\n",
    "from sklearn.metrics import classification_report, confusion_matrix\n",
    "from sklearn.preprocessing import StandardScaler\n",
    "from feature_extraction import generate_rolling_windows\n",
    "from data_preprocessing import clean_extra_files, detection_merge_subject_features, detection_merge_raw_npz_files, detection_merge_csv_datasets, detection_merge_npz_datasets\n",
    "\n",
    "# Constants\n",
    "base_dir    = 'Data'\n",
    "healthy_dir = 'Data/Healthy'\n",
    "stroke_dir  = 'Data/Stroke'\n",
    "\n",
    "detection_time_domain_name = 'detection_time_domain.csv'\n",
    "detection_asymmetry_name   = 'detection_asymmetry.csv'"
   ]
  },
  {
   "cell_type": "markdown",
   "id": "2c01b13f",
   "metadata": {},
   "source": [
    "## Data Preprocessing, Feature Selection and Dimensionality Reduction"
   ]
  },
  {
   "cell_type": "markdown",
   "id": "c12262d4",
   "metadata": {},
   "source": [
    "The first step is to create the dataset for the gait asymmetry and extract meaningful features from raw data. The goal is to create a set of different datasets that will provide a holistic view and different insights that we can use with the aim of creating a model that will provide a real time gait asymmetry detection. The process here includes the following steps:\n",
    "1. Create a new base dataset that includes data in 2 second windows and a 1 second stride.\n",
    "2. Extract simple statistic features from the 2 second signal like max, min and std. The simple statistics proved to be meaningful information for the classification task.\n",
    "3. Extract a set of simple symmetry and asymmetry features from swing and stride times.\n",
    "\n",
    "The data provided were designed for classification, since we have only a label for the whole signal as either 'Stroke Patient' or 'Healthy Subject'. In order to create the new real time asymmetry detection model we need to ensure that we have the correct labels. According to [Physio-pedia](https://www.physio-pedia.com/The_Gait_Cycle) the average gait cycle of a healthy adult is [1.2, 1.8] seconds. Taking into consideration the fact that impaired patients tend to have a longer stride we choose to use a 2 second window with a 1 second stride."
   ]
  },
  {
   "cell_type": "code",
   "execution_count": null,
   "id": "f427b6b6",
   "metadata": {},
   "outputs": [],
   "source": [
    "# # Create the new datasets for the healthy subjects\n",
    "\n",
    "# # 1. Create all the feature files for the statistical, asymmetry and raw data \n",
    "# for patient_id in os.listdir(healthy_dir):\n",
    "#     patient_path = os.path.join(healthy_dir, patient_id)\n",
    "    \n",
    "#     if not os.path.isdir(patient_path) or patient_path.__contains__('.DS_Store'):\n",
    "#         continue\n",
    "    \n",
    "#     try:\n",
    "#         generate_rolling_windows(patient_path)\n",
    "#     except Exception as e:\n",
    "#         print(f'Error processing {patient_id}: {e}')\n",
    "        \n",
    "# # 2. Merge all type of datasets into a single file for better training\n",
    "# detection_merge_subject_features(healthy_dir, detection_time_domain_name, detection_time_domain_name)\n",
    "# detection_merge_subject_features(healthy_dir, detection_asymmetry_name, detection_asymmetry_name)\n",
    "# detection_merge_raw_npz_files(healthy_dir)"
   ]
  },
  {
   "cell_type": "code",
   "execution_count": null,
   "id": "cfb38488",
   "metadata": {},
   "outputs": [],
   "source": [
    "# # Create the new datasets for the stroke patients\n",
    "\n",
    "# # 1. Create all the feature files for the statistical, asymmetry and raw data \n",
    "# for patient_id in os.listdir(stroke_dir):\n",
    "#     patient_path = os.path.join(stroke_dir, patient_id)\n",
    "    \n",
    "#     if not os.path.isdir(patient_path) or patient_path.__contains__('.DS_Store'):\n",
    "#         continue\n",
    "    \n",
    "#     try:\n",
    "#         generate_rolling_windows(patient_path)\n",
    "#     except Exception as e:\n",
    "#         print(f'Error processing {patient_id}: {e}')\n",
    "        \n",
    "# # 2. Merge all type of datasets into a single file for better training\n",
    "# detection_merge_subject_features(stroke_dir, detection_time_domain_name, detection_time_domain_name)\n",
    "# detection_merge_subject_features(stroke_dir, detection_asymmetry_name, detection_asymmetry_name)\n",
    "# detection_merge_raw_npz_files(stroke_dir)"
   ]
  },
  {
   "cell_type": "code",
   "execution_count": null,
   "id": "d95fc04e",
   "metadata": {},
   "outputs": [],
   "source": [
    "# # Merge the healthy subjects and stroke patients to a single file\n",
    "# detection_merge_csv_datasets(healthy_dir, stroke_dir, detection_time_domain_name)\n",
    "# detection_merge_csv_datasets(healthy_dir, stroke_dir, detection_asymmetry_name)\n",
    "# detection_merge_npz_datasets(base_dir)"
   ]
  },
  {
   "cell_type": "markdown",
   "id": "421ec15c",
   "metadata": {},
   "source": [
    "## Gait Asymmetry Detection — Time-Domain Feature Model\n",
    "\n",
    "This part of the notebook trains a binary classifier to detect gait asymmetry using time-domain features extracted from rolling IMU windows."
   ]
  },
  {
   "cell_type": "code",
   "execution_count": 20,
   "id": "265b47da",
   "metadata": {},
   "outputs": [
    {
     "data": {
      "image/png": "[encoded data removed]",
      "text/plain": [
       "<Figure size 640x480 with 1 Axes>"
      ]
     },
     "metadata": {},
     "output_type": "display_data"
    }
   ],
   "source": [
    "# Load Dataset\n",
    "time_domain_data = pd.read_csv(\"detection_time_domain.csv\")\n",
    "\n",
    "# Filter for Gait Windows Only (label 0 or 1)\n",
    "data_time_domain_gait = time_domain_data[time_domain_data['label_moderate'].isin([0, 1])].copy()\n",
    "target_variable = 'label_moderate'\n",
    "\n",
    "# Calculate class frequencies\n",
    "class_counts = data_time_domain_gait[target_variable].value_counts()\n",
    "bars = ['Asymmetric Gait', 'Symmetric Gait']\n",
    "labels_position = np.arange(len(bars))\n",
    "\n",
    "\n",
    "# Visualize class distribution\n",
    "class_counts.plot(kind='bar')\n",
    "plt.title('Class Balance')\n",
    "plt.xlabel('Class')\n",
    "plt.ylabel('Number of Samples')\n",
    "plt.xticks(labels_position, bars, rotation=360, fontsize='13')\n",
    "plt.show()"
   ]
  },
  {
   "cell_type": "code",
   "execution_count": 24,
   "id": "aaa36fab",
   "metadata": {},
   "outputs": [
    {
     "name": "stdout",
     "output_type": "stream",
     "text": [
      "\n",
      "Training model: Random Forest\n",
      "              precision    recall  f1-score   support\n",
      "\n",
      "           0      0.459     0.292     0.357       209\n",
      "           1      0.556     0.720     0.627       257\n",
      "\n",
      "    accuracy                          0.528       466\n",
      "   macro avg      0.507     0.506     0.492       466\n",
      "weighted avg      0.512     0.528     0.506       466\n",
      "\n",
      "\n",
      "Training model: Logistic Regression\n",
      "              precision    recall  f1-score   support\n",
      "\n",
      "           0      0.430     0.206     0.278       209\n",
      "           1      0.546     0.778     0.642       257\n",
      "\n",
      "    accuracy                          0.521       466\n",
      "   macro avg      0.488     0.492     0.460       466\n",
      "weighted avg      0.494     0.521     0.479       466\n",
      "\n",
      "\n",
      "Training model: Gradient Boosting\n",
      "              precision    recall  f1-score   support\n",
      "\n",
      "           0      0.431     0.297     0.351       209\n",
      "           1      0.543     0.681     0.604       257\n",
      "\n",
      "    accuracy                          0.509       466\n",
      "   macro avg      0.487     0.489     0.478       466\n",
      "weighted avg      0.493     0.509     0.491       466\n",
      "\n",
      "\n",
      "Training model: MLP\n",
      "              precision    recall  f1-score   support\n",
      "\n",
      "           0      0.484     0.368     0.418       209\n",
      "           1      0.570     0.681     0.621       257\n",
      "\n",
      "    accuracy                          0.541       466\n",
      "   macro avg      0.527     0.525     0.520       466\n",
      "weighted avg      0.532     0.541     0.530       466\n",
      "\n",
      "\n",
      "Training model: SVM (linear)\n",
      "              precision    recall  f1-score   support\n",
      "\n",
      "           0      0.409     0.129     0.196       209\n",
      "           1      0.545     0.848     0.664       257\n",
      "\n",
      "    accuracy                          0.526       466\n",
      "   macro avg      0.477     0.489     0.430       466\n",
      "weighted avg      0.484     0.526     0.454       466\n",
      "\n",
      "\n",
      "Training model: XGBoost\n",
      "              precision    recall  f1-score   support\n",
      "\n",
      "           0      0.446     0.335     0.383       209\n",
      "           1      0.550     0.661     0.601       257\n",
      "\n",
      "    accuracy                          0.515       466\n",
      "   macro avg      0.498     0.498     0.492       466\n",
      "weighted avg      0.503     0.515     0.503       466\n",
      "\n",
      "\n",
      " Model Comparison Summary:\n"
     ]
    },
    {
     "data": {
      "application/vnd.microsoft.datawrangler.viewer.v0+json": {
       "columns": [
        {
         "name": "index",
         "rawType": "object",
         "type": "string"
        },
        {
         "name": "accuracy",
         "rawType": "float64",
         "type": "float"
        },
        {
         "name": "f1_score_asymmetry",
         "rawType": "float64",
         "type": "float"
        },
        {
         "name": "precision_asymmetry",
         "rawType": "float64",
         "type": "float"
        },
        {
         "name": "recall_asymmetry",
         "rawType": "float64",
         "type": "float"
        }
       ],
       "conversionMethod": "pd.DataFrame",
       "ref": "17b0201a-b1c0-4a84-a00b-8a45919ac76c",
       "rows": [
        [
         "SVM (linear)",
         "0.5257510729613734",
         "0.6636225266362252",
         "0.545",
         "0.8482490272373541"
        ],
        [
         "Logistic Regression",
         "0.5214592274678111",
         "0.6420545746388443",
         "0.546448087431694",
         "0.7782101167315175"
        ],
        [
         "Random Forest",
         "0.5278969957081545",
         "0.6271186440677966",
         "0.5555555555555556",
         "0.7198443579766537"
        ],
        [
         "MLP",
         "0.5407725321888412",
         "0.6205673758865248",
         "0.5700325732899023",
         "0.6809338521400778"
        ],
        [
         "Gradient Boosting",
         "0.5085836909871244",
         "0.6044905008635578",
         "0.5434782608695652",
         "0.6809338521400778"
        ],
        [
         "XGBoost",
         "0.5150214592274678",
         "0.6007067137809188",
         "0.5501618122977346",
         "0.6614785992217899"
        ]
       ],
       "shape": {
        "columns": 4,
        "rows": 6
       }
      },
      "text/html": [
       "<div>\n",
       "<style scoped>\n",
       "    .dataframe tbody tr th:only-of-type {\n",
       "        vertical-align: middle;\n",
       "    }\n",
       "\n",
       "    .dataframe tbody tr th {\n",
       "        vertical-align: top;\n",
       "    }\n",
       "\n",
       "    .dataframe thead th {\n",
       "        text-align: right;\n",
       "    }\n",
       "</style>\n",
       "<table border=\"1\" class=\"dataframe\">\n",
       "  <thead>\n",
       "    <tr style=\"text-align: right;\">\n",
       "      <th></th>\n",
       "      <th>accuracy</th>\n",
       "      <th>f1_score_asymmetry</th>\n",
       "      <th>precision_asymmetry</th>\n",
       "      <th>recall_asymmetry</th>\n",
       "    </tr>\n",
       "  </thead>\n",
       "  <tbody>\n",
       "    <tr>\n",
       "      <th>SVM (linear)</th>\n",
       "      <td>0.525751</td>\n",
       "      <td>0.663623</td>\n",
       "      <td>0.545000</td>\n",
       "      <td>0.848249</td>\n",
       "    </tr>\n",
       "    <tr>\n",
       "      <th>Logistic Regression</th>\n",
       "      <td>0.521459</td>\n",
       "      <td>0.642055</td>\n",
       "      <td>0.546448</td>\n",
       "      <td>0.778210</td>\n",
       "    </tr>\n",
       "    <tr>\n",
       "      <th>Random Forest</th>\n",
       "      <td>0.527897</td>\n",
       "      <td>0.627119</td>\n",
       "      <td>0.555556</td>\n",
       "      <td>0.719844</td>\n",
       "    </tr>\n",
       "    <tr>\n",
       "      <th>MLP</th>\n",
       "      <td>0.540773</td>\n",
       "      <td>0.620567</td>\n",
       "      <td>0.570033</td>\n",
       "      <td>0.680934</td>\n",
       "    </tr>\n",
       "    <tr>\n",
       "      <th>Gradient Boosting</th>\n",
       "      <td>0.508584</td>\n",
       "      <td>0.604491</td>\n",
       "      <td>0.543478</td>\n",
       "      <td>0.680934</td>\n",
       "    </tr>\n",
       "    <tr>\n",
       "      <th>XGBoost</th>\n",
       "      <td>0.515021</td>\n",
       "      <td>0.600707</td>\n",
       "      <td>0.550162</td>\n",
       "      <td>0.661479</td>\n",
       "    </tr>\n",
       "  </tbody>\n",
       "</table>\n",
       "</div>"
      ],
      "text/plain": [
       "                     accuracy  f1_score_asymmetry  precision_asymmetry  \\\n",
       "SVM (linear)         0.525751            0.663623             0.545000   \n",
       "Logistic Regression  0.521459            0.642055             0.546448   \n",
       "Random Forest        0.527897            0.627119             0.555556   \n",
       "MLP                  0.540773            0.620567             0.570033   \n",
       "Gradient Boosting    0.508584            0.604491             0.543478   \n",
       "XGBoost              0.515021            0.600707             0.550162   \n",
       "\n",
       "                     recall_asymmetry  \n",
       "SVM (linear)                 0.848249  \n",
       "Logistic Regression          0.778210  \n",
       "Random Forest                0.719844  \n",
       "MLP                          0.680934  \n",
       "Gradient Boosting            0.680934  \n",
       "XGBoost                      0.661479  "
      ]
     },
     "metadata": {},
     "output_type": "display_data"
    },
    {
     "data": {
      "image/png": "[encoded data removed]",
      "text/plain": [
       "<Figure size 1200x600 with 1 Axes>"
      ]
     },
     "metadata": {},
     "output_type": "display_data"
    }
   ],
   "source": [
    "# Define Features and Labels\n",
    "feature_cols = [\n",
    "    'gyro-right-z-axis-max', 'gyro-left-z-axis-max',\n",
    "    'gyro-right-z-axis-min', 'gyro-left-z-axis-min',\n",
    "    'accel-right-z-axis-max', 'accel-left-z-axis-max',\n",
    "    'accel-right-z-axis-min', 'accel-left-z-axis-min'\n",
    "]\n",
    "\n",
    "X = data_time_domain_gait[feature_cols].values\n",
    "y = data_time_domain_gait['label_moderate'].values\n",
    "groups = data_time_domain_gait['patient_id'].values\n",
    "\n",
    "# Normalize Features\n",
    "scaler = StandardScaler()\n",
    "X_scaled = scaler.fit_transform(X)\n",
    "\n",
    "# Cross-Validation Setup\n",
    "gkf = GroupKFold(n_splits=5)\n",
    "\n",
    "# Define All Models to Compare\n",
    "models = {\n",
    "    \"Random Forest\": RandomForestClassifier(n_estimators=100, random_state=42),\n",
    "    \"Logistic Regression\": LogisticRegression(max_iter=1000),\n",
    "    \"Gradient Boosting\": GradientBoostingClassifier(),\n",
    "    \"MLP\": MLPClassifier(hidden_layer_sizes=(50,), max_iter=3000, alpha=1e-4),\n",
    "    \"SVM (linear)\": SVC(kernel='linear', probability=True),\n",
    "    \"XGBoost\": xgb.XGBClassifier(eval_metric='logloss')\n",
    "}\n",
    "\n",
    "\n",
    "# Train and Evaluate All Models\n",
    "results = {}\n",
    "\n",
    "for name, model in models.items():\n",
    "    print(f\"\\nTraining model: {name}\")\n",
    "    y_true_all, y_pred_all = [], []\n",
    "\n",
    "    # Training and Evaluation\n",
    "    for fold, (train_idx, test_idx) in enumerate(gkf.split(X_scaled, y, groups)):\n",
    "            model.fit(X_scaled[train_idx], y[train_idx])\n",
    "            y_pred = model.predict(X_scaled[test_idx])\n",
    "            y_true_all.extend(y[test_idx])\n",
    "            y_pred_all.extend(y_pred)\n",
    "            \n",
    "    report = classification_report(y_true_all, y_pred_all, output_dict=True)\n",
    "    results[name] = report\n",
    "    print(classification_report(y_true_all, y_pred_all, digits=3))\n",
    "\n",
    "\n",
    "\n",
    "# Compare Models (Accuracy and F1)\n",
    "summary = pd.DataFrame({\n",
    "    model: {\n",
    "        \"accuracy\": results[model][\"accuracy\"],\n",
    "        \"f1_score_asymmetry\": results[model][\"1\"][\"f1-score\"],\n",
    "        \"precision_asymmetry\": results[model][\"1\"][\"precision\"],\n",
    "        \"recall_asymmetry\": results[model][\"1\"][\"recall\"]\n",
    "    }\n",
    "    for model in results\n",
    "}).T\n",
    "\n",
    "\n",
    "summary = summary.sort_values(by=\"f1_score_asymmetry\", ascending=False)\n",
    "print(\"\\n Model Comparison Summary:\")\n",
    "display(summary)\n",
    "\n",
    "# ## Plot Summary\n",
    "summary.plot(kind=\"bar\", figsize=(12,6))\n",
    "plt.title(\"Model Comparison on Asymmetry Detection (Moderate Label)\")\n",
    "plt.ylabel(\"Score\")\n",
    "plt.grid(True)\n",
    "plt.xticks(rotation=45)\n",
    "plt.tight_layout()\n",
    "plt.show()"
   ]
  },
  {
   "cell_type": "markdown",
   "id": "85dd9814",
   "metadata": {},
   "source": [
    "## 2. Stride times Asymmetry values"
   ]
  },
  {
   "cell_type": "code",
   "execution_count": null,
   "id": "7f669e2a",
   "metadata": {},
   "outputs": [],
   "source": []
  },
  {
   "cell_type": "markdown",
   "id": "4194e951",
   "metadata": {},
   "source": [
    "## 3. Raw data values"
   ]
  },
  {
   "cell_type": "code",
   "execution_count": null,
   "id": "e0323be4",
   "metadata": {},
   "outputs": [],
   "source": []
  },
  {
   "cell_type": "code",
   "execution_count": null,
   "id": "a85234bb",
   "metadata": {},
   "outputs": [],
   "source": [
    "clean_extra_files(healthy_dir)\n",
    "clean_extra_files(stroke_dir)"
   ]
  }
 ],
 "metadata": {
  "kernelspec": {
   "display_name": "Python 3",
   "language": "python",
   "name": "python3"
  },
  "language_info": {
   "codemirror_mode": {
    "name": "ipython",
    "version": 3
   },
   "file_extension": ".py",
   "mimetype": "text/x-python",
   "name": "python",
   "nbconvert_exporter": "python",
   "pygments_lexer": "ipython3",
   "version": "3.10.11"
  }
 },
 "nbformat": 4,
 "nbformat_minor": 5
}
