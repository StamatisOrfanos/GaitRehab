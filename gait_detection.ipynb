{
 "cells": [
  {
   "cell_type": "markdown",
   "id": "c8174fda",
   "metadata": {},
   "source": [
    "# Real Time Gait Asymmetry Detection  \n",
    "\n",
    "In this notebook we are going to achieve the following:\n",
    "\n",
    "1. **Create the Training Dataset**: We will preprocess and combine data from different sources to create a comprehensive training dataset for real time gait asymmetry detection.\n",
    "2. **Feature Selection and Dimensionality Reduction**: We will identify the most relevant features for real time gait asymmetry detection using dimensionality reduction techniques.\n",
    "3. **Model Evaluation**: We will test and compare the performance of multiple machine learning and deep learning algorithms for real time gait asymmetry detection."
   ]
  },
  {
   "cell_type": "code",
   "execution_count": null,
   "id": "0903db49",
   "metadata": {},
   "outputs": [],
   "source": [
    "# Libraries\n",
    "import os\n",
    "import pandas as pd\n",
    "import numpy as np\n",
    "import matplotlib.pyplot as plt\n",
    "import seaborn as sns\n",
    "from sklearn.model_selection import GroupKFold\n",
    "from sklearn.ensemble import RandomForestClassifier\n",
    "from sklearn.linear_model import LogisticRegression\n",
    "from sklearn.metrics import classification_report, confusion_matrix\n",
    "from sklearn.preprocessing import StandardScaler\n",
    "from feature_extraction import generate_rolling_windows\n",
    "from data_preprocessing import clean_extra_files, detection_merge_subject_features, detection_merge_raw_npz_files, detection_merge_csv_datasets, detection_merge_npz_datasets\n",
    "\n",
    "# Constants\n",
    "base_dir    = 'Data'\n",
    "healthy_dir = 'Data/Healthy'\n",
    "stroke_dir  = 'Data/Stroke'\n",
    "\n",
    "detection_time_domain_name = 'detection_time_domain.csv'\n",
    "detection_asymmetry_name   = 'detection_asymmetry.csv'"
   ]
  },
  {
   "cell_type": "markdown",
   "id": "2c01b13f",
   "metadata": {},
   "source": [
    "## Data Preprocessing, Feature Selection and Dimensionality Reduction"
   ]
  },
  {
   "cell_type": "markdown",
   "id": "c12262d4",
   "metadata": {},
   "source": [
    "The first step is to create the dataset for the gait asymmetry and extract meaningful features from raw data. The goal is to create a set of different datasets that will provide a holistic view and different insights that we can use with the aim of creating a model that will provide a real time gait asymmetry detection. The process here includes the following steps:\n",
    "1. Create a new base dataset that includes data in 2 second windows and a 1 second stride.\n",
    "2. Extract simple statistic features from the 2 second signal like max, min and std. The simple statistics proved to be meaningful information for the classification task.\n",
    "3. Extract a set of simple symmetry and asymmetry features from swing and stride times.\n",
    "\n",
    "The data provided were designed for classification, since we have only a label for the whole signal as either 'Stroke Patient' or 'Healthy Subject'. In order to create the new real time asymmetry detection model we need to ensure that we have the correct labels. According to [Physio-pedia](https://www.physio-pedia.com/The_Gait_Cycle) the average gait cycle of a healthy adult is [1.2, 1.8] seconds. Taking into consideration the fact that impaired patients tend to have a longer stride we choose to use a 2 second window with a 1 second stride."
   ]
  },
  {
   "cell_type": "code",
   "execution_count": null,
   "id": "f427b6b6",
   "metadata": {},
   "outputs": [],
   "source": [
    "# # Create the new datasets for the healthy subjects\n",
    "\n",
    "# # 1. Create all the feature files for the statistical, asymmetry and raw data \n",
    "# for patient_id in os.listdir(healthy_dir):\n",
    "#     patient_path = os.path.join(healthy_dir, patient_id)\n",
    "    \n",
    "#     if not os.path.isdir(patient_path) or patient_path.__contains__('.DS_Store'):\n",
    "#         continue\n",
    "    \n",
    "#     try:\n",
    "#         generate_rolling_windows(patient_path)\n",
    "#     except Exception as e:\n",
    "#         print(f'Error processing {patient_id}: {e}')\n",
    "        \n",
    "# # 2. Merge all type of datasets into a single file for better training\n",
    "# detection_merge_subject_features(healthy_dir, detection_time_domain_name, detection_time_domain_name)\n",
    "# detection_merge_subject_features(healthy_dir, detection_asymmetry_name, detection_asymmetry_name)\n",
    "# detection_merge_raw_npz_files(healthy_dir)"
   ]
  },
  {
   "cell_type": "code",
   "execution_count": null,
   "id": "cfb38488",
   "metadata": {},
   "outputs": [],
   "source": [
    "# # Create the new datasets for the stroke patients\n",
    "\n",
    "# # 1. Create all the feature files for the statistical, asymmetry and raw data \n",
    "# for patient_id in os.listdir(stroke_dir):\n",
    "#     patient_path = os.path.join(stroke_dir, patient_id)\n",
    "    \n",
    "#     if not os.path.isdir(patient_path) or patient_path.__contains__('.DS_Store'):\n",
    "#         continue\n",
    "    \n",
    "#     try:\n",
    "#         generate_rolling_windows(patient_path)\n",
    "#     except Exception as e:\n",
    "#         print(f'Error processing {patient_id}: {e}')\n",
    "        \n",
    "# # 2. Merge all type of datasets into a single file for better training\n",
    "# detection_merge_subject_features(stroke_dir, detection_time_domain_name, detection_time_domain_name)\n",
    "# detection_merge_subject_features(stroke_dir, detection_asymmetry_name, detection_asymmetry_name)\n",
    "# detection_merge_raw_npz_files(stroke_dir)"
   ]
  },
  {
   "cell_type": "code",
   "execution_count": null,
   "id": "d95fc04e",
   "metadata": {},
   "outputs": [],
   "source": [
    "# # Merge the healthy subjects and stroke patients to a single file\n",
    "# detection_merge_csv_datasets(healthy_dir, stroke_dir, detection_time_domain_name)\n",
    "# detection_merge_csv_datasets(healthy_dir, stroke_dir, detection_asymmetry_name)\n",
    "# detection_merge_npz_datasets(base_dir)"
   ]
  },
  {
   "cell_type": "markdown",
   "id": "421ec15c",
   "metadata": {},
   "source": [
    "## Gait Asymmetry Detection — Time-Domain Feature Model\n",
    "\n",
    "This part of the notebook trains a binary classifier to detect gait asymmetry using time-domain features extracted from rolling IMU windows."
   ]
  },
  {
   "cell_type": "code",
   "execution_count": null,
   "id": "aaa36fab",
   "metadata": {},
   "outputs": [],
   "source": [
    "# Load Dataset\n",
    "df = pd.read_csv(\"detection_time_domain.csv\")\n",
    "\n",
    "# Filter for Gait Windows Only (label 0 or 1)\n",
    "df_gait = df[df['label_moderate'].isin([0, 1])].copy()\n",
    "\n",
    "# Define Features and Labels\n",
    "feature_cols = [\n",
    "    'gyro-right-z-axis-max', 'gyro-left-z-axis-max',\n",
    "    'gyro-right-z-axis-min', 'gyro-left-z-axis-min',\n",
    "    'accel-right-z-axis-max', 'accel-left-z-axis-max',\n",
    "    'accel-right-z-axis-min', 'accel-left-z-axis-min'\n",
    "]\n",
    "\n",
    "X = df_gait[feature_cols].values\n",
    "y = df_gait['label_moderate'].values\n",
    "groups = df_gait['patient_id'].values\n",
    "\n",
    "# Normalize Features\n",
    "scaler = StandardScaler()\n",
    "X_scaled = scaler.fit_transform(X)\n",
    "\n",
    "# Cross-Validation Setup\n",
    "gkf = GroupKFold(n_splits=5)\n",
    "model = RandomForestClassifier(n_estimators=100, random_state=8)\n",
    "\n",
    "# Training and Evaluation\n",
    "y_true_all, y_pred_all = [], []\n",
    "\n",
    "for fold, (train_idx, test_idx) in enumerate(gkf.split(X_scaled, y, groups)):\n",
    "    print(f\"Fold {fold + 1}\")\n",
    "    model.fit(X_scaled[train_idx], y[train_idx])\n",
    "    y_pred = model.predict(X_scaled[test_idx])\n",
    "    \n",
    "    y_true_all.extend(y[test_idx])\n",
    "    y_pred_all.extend(y_pred)\n",
    "    \n",
    "    print(classification_report(y[test_idx], y_pred, digits=3))\n",
    "\n",
    "# Confusion Matrix\n",
    "cm = confusion_matrix(y_true_all, y_pred_all)\n",
    "sns.heatmap(cm, annot=True, fmt=\"d\", cmap=\"Blues\", xticklabels=[\"Symmetric\", \"Asymmetric\"], yticklabels=[\"Symmetric\", \"Asymmetric\"])\n",
    "plt.title(\"Overall Confusion Matrix (5-fold Group CV)\")\n",
    "plt.xlabel(\"Predicted\")\n",
    "plt.ylabel(\"True\")\n",
    "plt.show()"
   ]
  },
  {
   "cell_type": "markdown",
   "id": "85dd9814",
   "metadata": {},
   "source": [
    "## 2. Stride times Asymmetry values"
   ]
  },
  {
   "cell_type": "code",
   "execution_count": null,
   "id": "7f669e2a",
   "metadata": {},
   "outputs": [],
   "source": []
  },
  {
   "cell_type": "markdown",
   "id": "4194e951",
   "metadata": {},
   "source": [
    "## 3. Raw data values"
   ]
  },
  {
   "cell_type": "code",
   "execution_count": null,
   "id": "e0323be4",
   "metadata": {},
   "outputs": [],
   "source": []
  },
  {
   "cell_type": "code",
   "execution_count": null,
   "id": "a85234bb",
   "metadata": {},
   "outputs": [],
   "source": [
    "clean_extra_files(healthy_dir)\n",
    "clean_extra_files(stroke_dir)"
   ]
  }
 ],
 "metadata": {
  "kernelspec": {
   "display_name": "Python 3",
   "language": "python",
   "name": "python3"
  },
  "language_info": {
   "codemirror_mode": {
    "name": "ipython",
    "version": 3
   },
   "file_extension": ".py",
   "mimetype": "text/x-python",
   "name": "python",
   "nbconvert_exporter": "python",
   "pygments_lexer": "ipython3",
   "version": "3.10.11"
  }
 },
 "nbformat": 4,
 "nbformat_minor": 5
}
