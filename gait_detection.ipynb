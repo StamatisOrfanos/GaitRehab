{
 "cells": [
  {
   "cell_type": "markdown",
   "id": "c8174fda",
   "metadata": {},
   "source": [
    "# Real Time Gait Asymmetry Detection  \n",
    "\n",
    "In this notebook we are going to achieve the following:\n",
    "\n",
    "1. **Create the Training Dataset**: We will preprocess and combine data from different sources to create a comprehensive training dataset for real time gait asymmetry detection.\n",
    "2. **Feature Selection and Dimensionality Reduction**: We will identify the most relevant features for real time gait asymmetry detection using dimensionality reduction techniques.\n",
    "3. **Model Evaluation**: We will test and compare the performance of multiple machine learning and deep learning algorithms for real time gait asymmetry detection."
   ]
  },
  {
   "cell_type": "code",
   "execution_count": 4,
   "id": "0903db49",
   "metadata": {},
   "outputs": [],
   "source": [
    "# Libraries\n",
    "import os\n",
    "import pandas as pd\n",
    "import numpy as np\n",
    "import matplotlib.pyplot as plt\n",
    "import seaborn as sns\n",
    "from sklearn.model_selection import GroupKFold\n",
    "from sklearn.ensemble import RandomForestClassifier, GradientBoostingClassifier\n",
    "from sklearn.linear_model import LogisticRegression\n",
    "from sklearn.neural_network import MLPClassifier\n",
    "from sklearn.svm import SVC\n",
    "import xgboost as xgb\n",
    "from sklearn.metrics import classification_report, confusion_matrix\n",
    "from sklearn.preprocessing import StandardScaler\n",
    "import tensorflow as tf\n",
    "from tensorflow.keras.models import Sequential\n",
    "from tensorflow.keras.layers import Conv1D, MaxPooling1D, Dense, Flatten, Dropout, BatchNormalization\n",
    "from tensorflow.keras.optimizers import Adam\n",
    "from keras import Input\n",
    "from feature_extraction import generate_rolling_windows\n",
    "from data_preprocessing import clean_extra_files, detection_merge_subject_features, detection_merge_raw_npz_files, detection_merge_csv_datasets, detection_merge_npz_datasets\n",
    "\n",
    "\n",
    "# Constants\n",
    "base_dir    = 'Data'\n",
    "healthy_dir = 'Data/Healthy'\n",
    "stroke_dir  = 'Data/Stroke'\n",
    "\n",
    "detection_time_domain_name = 'detection_time_domain.csv'\n",
    "detection_asymmetry_name   = 'detection_asymmetry.csv'"
   ]
  },
  {
   "cell_type": "markdown",
   "id": "2c01b13f",
   "metadata": {},
   "source": [
    "## Data Preprocessing, Feature Selection and Dimensionality Reduction"
   ]
  },
  {
   "cell_type": "markdown",
   "id": "c12262d4",
   "metadata": {},
   "source": [
    "The first step is to create the dataset for the gait asymmetry and extract meaningful features from raw data. The goal is to create a set of different datasets that will provide a holistic view and different insights that we can use with the aim of creating a model that will provide a real time gait asymmetry detection. The process here includes the following steps:\n",
    "1. Create a new base dataset that includes data in 2 second windows and a 1 second stride.\n",
    "2. Extract simple statistic features from the 2 second signal like max, min and std. The simple statistics proved to be meaningful information for the classification task.\n",
    "3. Extract a set of simple symmetry and asymmetry features from swing and stride times.\n",
    "\n",
    "The data provided were designed for classification, since we have only a label for the whole signal as either 'Stroke Patient' or 'Healthy Subject'. In order to create the new real time asymmetry detection model we need to ensure that we have the correct labels. According to [Physio-pedia](https://www.physio-pedia.com/The_Gait_Cycle) the average gait cycle of a healthy adult is [1.2, 1.8] seconds. Taking into consideration the fact that impaired patients tend to have a longer stride we choose to use a 2 second window with a 1 second stride."
   ]
  },
  {
   "cell_type": "code",
   "execution_count": 2,
   "id": "f427b6b6",
   "metadata": {},
   "outputs": [
    {
     "name": "stdout",
     "output_type": "stream",
     "text": [
      "Generated and saved all 3 datasets to: Data/Healthy/Patient_8\n",
      "Generated and saved all 3 datasets to: Data/Healthy/Patient_1\n",
      "Generated and saved all 3 datasets to: Data/Healthy/Patient_6\n",
      "Generated and saved all 3 datasets to: Data/Healthy/Patient_7\n",
      "Generated and saved all 3 datasets to: Data/Healthy/Patient_9\n",
      "Generated and saved all 3 datasets to: Data/Healthy/Patient_5\n",
      "Generated and saved all 3 datasets to: Data/Healthy/Patient_2\n",
      "Generated and saved all 3 datasets to: Data/Healthy/Patient_3\n",
      "Generated and saved all 3 datasets to: Data/Healthy/Patient_4\n",
      "Merged 9 files into detection_time_domain.csv\n",
      "Merged 9 files into detection_asymmetry.csv\n",
      "Merged 9 files into all_subject_raw_windows.npz\n"
     ]
    }
   ],
   "source": [
    "# Create the new datasets for the healthy subjects\n",
    "\n",
    "# 1. Create all the feature files for the statistical, asymmetry and raw data \n",
    "for patient_id in os.listdir(healthy_dir):\n",
    "    patient_path = os.path.join(healthy_dir, patient_id)\n",
    "    \n",
    "    if not os.path.isdir(patient_path) or patient_path.__contains__('.DS_Store'):\n",
    "        continue\n",
    "    \n",
    "    try:\n",
    "        generate_rolling_windows(patient_path)\n",
    "    except Exception as e:\n",
    "        print(f'Error processing {patient_id}: {e}')\n",
    "        \n",
    "# 2. Merge all type of datasets into a single file for better training\n",
    "detection_merge_subject_features(healthy_dir, detection_time_domain_name, detection_time_domain_name)\n",
    "detection_merge_subject_features(healthy_dir, detection_asymmetry_name, detection_asymmetry_name)\n",
    "detection_merge_raw_npz_files(healthy_dir)"
   ]
  },
  {
   "cell_type": "code",
   "execution_count": 3,
   "id": "cfb38488",
   "metadata": {},
   "outputs": [
    {
     "name": "stdout",
     "output_type": "stream",
     "text": [
      "Generated and saved all 3 datasets to: Data/Stroke/Patient_8\n",
      "Generated and saved all 3 datasets to: Data/Stroke/Patient_1\n",
      "Generated and saved all 3 datasets to: Data/Stroke/Patient_6\n",
      "Generated and saved all 3 datasets to: Data/Stroke/Patient_7\n",
      "Generated and saved all 3 datasets to: Data/Stroke/Patient_9\n",
      "Generated and saved all 3 datasets to: Data/Stroke/Patient_5\n",
      "Generated and saved all 3 datasets to: Data/Stroke/Patient_2\n",
      "Generated and saved all 3 datasets to: Data/Stroke/Patient_3\n",
      "Generated and saved all 3 datasets to: Data/Stroke/Patient_4\n",
      "Merged 9 files into detection_time_domain.csv\n",
      "Merged 9 files into detection_asymmetry.csv\n",
      "Merged 9 files into all_subject_raw_windows.npz\n"
     ]
    }
   ],
   "source": [
    "# Create the new datasets for the stroke patients\n",
    "\n",
    "# 1. Create all the feature files for the statistical, asymmetry and raw data \n",
    "for patient_id in os.listdir(stroke_dir):\n",
    "    patient_path = os.path.join(stroke_dir, patient_id)\n",
    "    \n",
    "    if not os.path.isdir(patient_path) or patient_path.__contains__('.DS_Store'):\n",
    "        continue\n",
    "    \n",
    "    try:\n",
    "        generate_rolling_windows(patient_path)\n",
    "    except Exception as e:\n",
    "        print(f'Error processing {patient_id}: {e}')\n",
    "        \n",
    "# 2. Merge all type of datasets into a single file for better training\n",
    "detection_merge_subject_features(stroke_dir, detection_time_domain_name, detection_time_domain_name)\n",
    "detection_merge_subject_features(stroke_dir, detection_asymmetry_name, detection_asymmetry_name)\n",
    "detection_merge_raw_npz_files(stroke_dir)"
   ]
  },
  {
   "cell_type": "code",
   "execution_count": 4,
   "id": "d95fc04e",
   "metadata": {},
   "outputs": [
    {
     "name": "stdout",
     "output_type": "stream",
     "text": [
      "Saved dataset detection_time_domain.csv with shape (4826, 16) to detection_time_domain.csv\n",
      "Saved dataset detection_asymmetry.csv with shape (4826, 10) to detection_asymmetry.csv\n",
      "Merged 2 files into all_subject_raw_windows.npz\n"
     ]
    }
   ],
   "source": [
    "# Merge the healthy subjects and stroke patients to a single file\n",
    "detection_merge_csv_datasets(healthy_dir, stroke_dir, detection_time_domain_name)\n",
    "detection_merge_csv_datasets(healthy_dir, stroke_dir, detection_asymmetry_name)\n",
    "detection_merge_npz_datasets(base_dir)"
   ]
  },
  {
   "cell_type": "markdown",
   "id": "421ec15c",
   "metadata": {},
   "source": [
    "## Gait Asymmetry Detection — Time-Domain Feature Model\n",
    "\n",
    "This part of the notebook trains a binary classifier to detect gait asymmetry using time-domain features extracted from rolling IMU windows."
   ]
  },
  {
   "cell_type": "code",
   "execution_count": 5,
   "id": "265b47da",
   "metadata": {},
   "outputs": [
    {
     "data": {
      "image/png": "[encoded data removed]",
      "text/plain": [
       "<Figure size 640x480 with 1 Axes>"
      ]
     },
     "metadata": {},
     "output_type": "display_data"
    }
   ],
   "source": [
    "# Load Dataset\n",
    "time_domain_data = pd.read_csv(\"detection_time_domain.csv\")\n",
    "\n",
    "# Filter for Gait Windows Only (label 0 or 1)\n",
    "data_time_domain_gait = time_domain_data[time_domain_data['label_moderate'].isin([0, 1])].copy()\n",
    "target_variable = 'label_moderate'\n",
    "\n",
    "# Calculate class frequencies\n",
    "class_counts = data_time_domain_gait[target_variable].value_counts()\n",
    "bars = ['Asymmetric Gait', 'Symmetric Gait']\n",
    "labels_position = np.arange(len(bars))\n",
    "\n",
    "\n",
    "# Visualize class distribution\n",
    "class_counts.plot(kind='bar')\n",
    "plt.title('Class Balance')\n",
    "plt.xlabel('Class')\n",
    "plt.ylabel('Number of Samples')\n",
    "plt.xticks(labels_position, bars, rotation=360, fontsize='13')\n",
    "plt.show()"
   ]
  },
  {
   "cell_type": "code",
   "execution_count": 6,
   "id": "aaa36fab",
   "metadata": {},
   "outputs": [
    {
     "name": "stdout",
     "output_type": "stream",
     "text": [
      "\n",
      "Training model: Random Forest\n",
      "              precision    recall  f1-score   support\n",
      "\n",
      "           0      0.522     0.537     0.529       361\n",
      "           1      0.461     0.445     0.453       321\n",
      "\n",
      "    accuracy                          0.494       682\n",
      "   macro avg      0.491     0.491     0.491       682\n",
      "weighted avg      0.493     0.494     0.494       682\n",
      "\n",
      "\n",
      "Training model: Logistic Regression\n",
      "              precision    recall  f1-score   support\n",
      "\n",
      "           0      0.611     0.535     0.570       361\n",
      "           1      0.541     0.617     0.576       321\n",
      "\n",
      "    accuracy                          0.573       682\n",
      "   macro avg      0.576     0.576     0.573       682\n",
      "weighted avg      0.578     0.573     0.573       682\n",
      "\n",
      "\n",
      "Training model: Gradient Boosting\n",
      "              precision    recall  f1-score   support\n",
      "\n",
      "           0      0.543     0.521     0.532       361\n",
      "           1      0.485     0.508     0.496       321\n",
      "\n",
      "    accuracy                          0.515       682\n",
      "   macro avg      0.514     0.514     0.514       682\n",
      "weighted avg      0.516     0.515     0.515       682\n",
      "\n",
      "\n",
      "Training model: MLP\n",
      "              precision    recall  f1-score   support\n",
      "\n",
      "           0      0.523     0.543     0.533       361\n",
      "           1      0.463     0.442     0.452       321\n",
      "\n",
      "    accuracy                          0.496       682\n",
      "   macro avg      0.493     0.493     0.492       682\n",
      "weighted avg      0.494     0.496     0.495       682\n",
      "\n",
      "\n",
      "Training model: SVM (linear)\n",
      "              precision    recall  f1-score   support\n",
      "\n",
      "           0      0.564     0.537     0.550       361\n",
      "           1      0.506     0.533     0.519       321\n",
      "\n",
      "    accuracy                          0.535       682\n",
      "   macro avg      0.535     0.535     0.535       682\n",
      "weighted avg      0.537     0.535     0.536       682\n",
      "\n",
      "\n",
      "Training model: XGBoost\n",
      "              precision    recall  f1-score   support\n",
      "\n",
      "           0      0.521     0.518     0.519       361\n",
      "           1      0.461     0.464     0.463       321\n",
      "\n",
      "    accuracy                          0.493       682\n",
      "   macro avg      0.491     0.491     0.491       682\n",
      "weighted avg      0.493     0.493     0.493       682\n",
      "\n",
      "\n",
      " Model Comparison Summary:\n"
     ]
    },
    {
     "data": {
      "application/vnd.microsoft.datawrangler.viewer.v0+json": {
       "columns": [
        {
         "name": "index",
         "rawType": "object",
         "type": "string"
        },
        {
         "name": "accuracy",
         "rawType": "float64",
         "type": "float"
        },
        {
         "name": "f1_score_asymmetry",
         "rawType": "float64",
         "type": "float"
        },
        {
         "name": "precision_asymmetry",
         "rawType": "float64",
         "type": "float"
        },
        {
         "name": "recall_asymmetry",
         "rawType": "float64",
         "type": "float"
        }
       ],
       "conversionMethod": "pd.DataFrame",
       "ref": "fbc77c51-1e03-40ac-b601-60d160ce6c34",
       "rows": [
        [
         "Logistic Regression",
         "0.5733137829912024",
         "0.5764192139737991",
         "0.5409836065573771",
         "0.616822429906542"
        ],
        [
         "SVM (linear)",
         "0.5351906158357771",
         "0.5189681335356601",
         "0.5059171597633136",
         "0.5327102803738317"
        ],
        [
         "Gradient Boosting",
         "0.5146627565982405",
         "0.4961948249619482",
         "0.4851190476190476",
         "0.5077881619937694"
        ],
        [
         "XGBoost",
         "0.49266862170087977",
         "0.46273291925465837",
         "0.4613003095975232",
         "0.46417445482866043"
        ],
        [
         "Random Forest",
         "0.4941348973607038",
         "0.4532488114104596",
         "0.4612903225806452",
         "0.4454828660436137"
        ],
        [
         "MLP",
         "0.49560117302052786",
         "0.45222929936305734",
         "0.46254071661237783",
         "0.4423676012461059"
        ]
       ],
       "shape": {
        "columns": 4,
        "rows": 6
       }
      },
      "text/html": [
       "<div>\n",
       "<style scoped>\n",
       "    .dataframe tbody tr th:only-of-type {\n",
       "        vertical-align: middle;\n",
       "    }\n",
       "\n",
       "    .dataframe tbody tr th {\n",
       "        vertical-align: top;\n",
       "    }\n",
       "\n",
       "    .dataframe thead th {\n",
       "        text-align: right;\n",
       "    }\n",
       "</style>\n",
       "<table border=\"1\" class=\"dataframe\">\n",
       "  <thead>\n",
       "    <tr style=\"text-align: right;\">\n",
       "      <th></th>\n",
       "      <th>accuracy</th>\n",
       "      <th>f1_score_asymmetry</th>\n",
       "      <th>precision_asymmetry</th>\n",
       "      <th>recall_asymmetry</th>\n",
       "    </tr>\n",
       "  </thead>\n",
       "  <tbody>\n",
       "    <tr>\n",
       "      <th>Logistic Regression</th>\n",
       "      <td>0.573314</td>\n",
       "      <td>0.576419</td>\n",
       "      <td>0.540984</td>\n",
       "      <td>0.616822</td>\n",
       "    </tr>\n",
       "    <tr>\n",
       "      <th>SVM (linear)</th>\n",
       "      <td>0.535191</td>\n",
       "      <td>0.518968</td>\n",
       "      <td>0.505917</td>\n",
       "      <td>0.532710</td>\n",
       "    </tr>\n",
       "    <tr>\n",
       "      <th>Gradient Boosting</th>\n",
       "      <td>0.514663</td>\n",
       "      <td>0.496195</td>\n",
       "      <td>0.485119</td>\n",
       "      <td>0.507788</td>\n",
       "    </tr>\n",
       "    <tr>\n",
       "      <th>XGBoost</th>\n",
       "      <td>0.492669</td>\n",
       "      <td>0.462733</td>\n",
       "      <td>0.461300</td>\n",
       "      <td>0.464174</td>\n",
       "    </tr>\n",
       "    <tr>\n",
       "      <th>Random Forest</th>\n",
       "      <td>0.494135</td>\n",
       "      <td>0.453249</td>\n",
       "      <td>0.461290</td>\n",
       "      <td>0.445483</td>\n",
       "    </tr>\n",
       "    <tr>\n",
       "      <th>MLP</th>\n",
       "      <td>0.495601</td>\n",
       "      <td>0.452229</td>\n",
       "      <td>0.462541</td>\n",
       "      <td>0.442368</td>\n",
       "    </tr>\n",
       "  </tbody>\n",
       "</table>\n",
       "</div>"
      ],
      "text/plain": [
       "                     accuracy  f1_score_asymmetry  precision_asymmetry  \\\n",
       "Logistic Regression  0.573314            0.576419             0.540984   \n",
       "SVM (linear)         0.535191            0.518968             0.505917   \n",
       "Gradient Boosting    0.514663            0.496195             0.485119   \n",
       "XGBoost              0.492669            0.462733             0.461300   \n",
       "Random Forest        0.494135            0.453249             0.461290   \n",
       "MLP                  0.495601            0.452229             0.462541   \n",
       "\n",
       "                     recall_asymmetry  \n",
       "Logistic Regression          0.616822  \n",
       "SVM (linear)                 0.532710  \n",
       "Gradient Boosting            0.507788  \n",
       "XGBoost                      0.464174  \n",
       "Random Forest                0.445483  \n",
       "MLP                          0.442368  "
      ]
     },
     "metadata": {},
     "output_type": "display_data"
    },
    {
     "data": {
      "image/png": "[encoded data removed]",
      "text/plain": [
       "<Figure size 1200x600 with 1 Axes>"
      ]
     },
     "metadata": {},
     "output_type": "display_data"
    },
    {
     "name": "stdout",
     "output_type": "stream",
     "text": [
      "\n",
      "Training model: Random Forest\n",
      "              precision    recall  f1-score   support\n",
      "\n",
      "           0      0.385     0.340     0.361       285\n",
      "           1      0.563     0.610     0.585       397\n",
      "\n",
      "    accuracy                          0.497       682\n",
      "   macro avg      0.474     0.475     0.473       682\n",
      "weighted avg      0.488     0.497     0.492       682\n",
      "\n",
      "\n",
      "Training model: Logistic Regression\n",
      "              precision    recall  f1-score   support\n",
      "\n",
      "           0      0.351     0.119     0.178       285\n",
      "           1      0.571     0.841     0.680       397\n",
      "\n",
      "    accuracy                          0.540       682\n",
      "   macro avg      0.461     0.480     0.429       682\n",
      "weighted avg      0.479     0.540     0.470       682\n",
      "\n",
      "\n",
      "Training model: Gradient Boosting\n",
      "              precision    recall  f1-score   support\n",
      "\n",
      "           0      0.396     0.354     0.374       285\n",
      "           1      0.569     0.612     0.590       397\n",
      "\n",
      "    accuracy                          0.504       682\n",
      "   macro avg      0.483     0.483     0.482       682\n",
      "weighted avg      0.497     0.504     0.500       682\n",
      "\n",
      "\n",
      "Training model: MLP\n",
      "              precision    recall  f1-score   support\n",
      "\n",
      "           0      0.359     0.165     0.226       285\n",
      "           1      0.568     0.788     0.660       397\n",
      "\n",
      "    accuracy                          0.528       682\n",
      "   macro avg      0.463     0.477     0.443       682\n",
      "weighted avg      0.481     0.528     0.479       682\n",
      "\n",
      "\n",
      "Training model: SVM (linear)\n",
      "              precision    recall  f1-score   support\n",
      "\n",
      "           0      0.409     0.063     0.109       285\n",
      "           1      0.582     0.935     0.717       397\n",
      "\n",
      "    accuracy                          0.570       682\n",
      "   macro avg      0.495     0.499     0.413       682\n",
      "weighted avg      0.509     0.570     0.463       682\n",
      "\n",
      "\n",
      "Training model: XGBoost\n",
      "              precision    recall  f1-score   support\n",
      "\n",
      "           0      0.438     0.393     0.414       285\n",
      "           1      0.594     0.637     0.615       397\n",
      "\n",
      "    accuracy                          0.535       682\n",
      "   macro avg      0.516     0.515     0.514       682\n",
      "weighted avg      0.529     0.535     0.531       682\n",
      "\n",
      "\n",
      " Model Comparison Summary:\n"
     ]
    },
    {
     "data": {
      "application/vnd.microsoft.datawrangler.viewer.v0+json": {
       "columns": [
        {
         "name": "index",
         "rawType": "object",
         "type": "string"
        },
        {
         "name": "accuracy",
         "rawType": "float64",
         "type": "float"
        },
        {
         "name": "f1_score_asymmetry",
         "rawType": "float64",
         "type": "float"
        },
        {
         "name": "precision_asymmetry",
         "rawType": "float64",
         "type": "float"
        },
        {
         "name": "recall_asymmetry",
         "rawType": "float64",
         "type": "float"
        }
       ],
       "conversionMethod": "pd.DataFrame",
       "ref": "edf7087d-b47f-40f6-88da-49483c7062ef",
       "rows": [
        [
         "SVM (linear)",
         "0.5703812316715543",
         "0.7169082125603865",
         "0.5815047021943573",
         "0.9345088161209067"
        ],
        [
         "Logistic Regression",
         "0.5395894428152492",
         "0.6802443991853361",
         "0.5709401709401709",
         "0.8413098236775819"
        ],
        [
         "MLP",
         "0.5278592375366569",
         "0.6603375527426161",
         "0.5680580762250453",
         "0.7884130982367759"
        ],
        [
         "XGBoost",
         "0.5351906158357771",
         "0.6148238153098421",
         "0.5938967136150235",
         "0.6372795969773299"
        ],
        [
         "Gradient Boosting",
         "0.5043988269794721",
         "0.5898058252427184",
         "0.5690866510538641",
         "0.6120906801007556"
        ],
        [
         "Random Forest",
         "0.4970674486803519",
         "0.585247883917775",
         "0.5627906976744186",
         "0.6095717884130982"
        ]
       ],
       "shape": {
        "columns": 4,
        "rows": 6
       }
      },
      "text/html": [
       "<div>\n",
       "<style scoped>\n",
       "    .dataframe tbody tr th:only-of-type {\n",
       "        vertical-align: middle;\n",
       "    }\n",
       "\n",
       "    .dataframe tbody tr th {\n",
       "        vertical-align: top;\n",
       "    }\n",
       "\n",
       "    .dataframe thead th {\n",
       "        text-align: right;\n",
       "    }\n",
       "</style>\n",
       "<table border=\"1\" class=\"dataframe\">\n",
       "  <thead>\n",
       "    <tr style=\"text-align: right;\">\n",
       "      <th></th>\n",
       "      <th>accuracy</th>\n",
       "      <th>f1_score_asymmetry</th>\n",
       "      <th>precision_asymmetry</th>\n",
       "      <th>recall_asymmetry</th>\n",
       "    </tr>\n",
       "  </thead>\n",
       "  <tbody>\n",
       "    <tr>\n",
       "      <th>SVM (linear)</th>\n",
       "      <td>0.570381</td>\n",
       "      <td>0.716908</td>\n",
       "      <td>0.581505</td>\n",
       "      <td>0.934509</td>\n",
       "    </tr>\n",
       "    <tr>\n",
       "      <th>Logistic Regression</th>\n",
       "      <td>0.539589</td>\n",
       "      <td>0.680244</td>\n",
       "      <td>0.570940</td>\n",
       "      <td>0.841310</td>\n",
       "    </tr>\n",
       "    <tr>\n",
       "      <th>MLP</th>\n",
       "      <td>0.527859</td>\n",
       "      <td>0.660338</td>\n",
       "      <td>0.568058</td>\n",
       "      <td>0.788413</td>\n",
       "    </tr>\n",
       "    <tr>\n",
       "      <th>XGBoost</th>\n",
       "      <td>0.535191</td>\n",
       "      <td>0.614824</td>\n",
       "      <td>0.593897</td>\n",
       "      <td>0.637280</td>\n",
       "    </tr>\n",
       "    <tr>\n",
       "      <th>Gradient Boosting</th>\n",
       "      <td>0.504399</td>\n",
       "      <td>0.589806</td>\n",
       "      <td>0.569087</td>\n",
       "      <td>0.612091</td>\n",
       "    </tr>\n",
       "    <tr>\n",
       "      <th>Random Forest</th>\n",
       "      <td>0.497067</td>\n",
       "      <td>0.585248</td>\n",
       "      <td>0.562791</td>\n",
       "      <td>0.609572</td>\n",
       "    </tr>\n",
       "  </tbody>\n",
       "</table>\n",
       "</div>"
      ],
      "text/plain": [
       "                     accuracy  f1_score_asymmetry  precision_asymmetry  \\\n",
       "SVM (linear)         0.570381            0.716908             0.581505   \n",
       "Logistic Regression  0.539589            0.680244             0.570940   \n",
       "MLP                  0.527859            0.660338             0.568058   \n",
       "XGBoost              0.535191            0.614824             0.593897   \n",
       "Gradient Boosting    0.504399            0.589806             0.569087   \n",
       "Random Forest        0.497067            0.585248             0.562791   \n",
       "\n",
       "                     recall_asymmetry  \n",
       "SVM (linear)                 0.934509  \n",
       "Logistic Regression          0.841310  \n",
       "MLP                          0.788413  \n",
       "XGBoost                      0.637280  \n",
       "Gradient Boosting            0.612091  \n",
       "Random Forest                0.609572  "
      ]
     },
     "metadata": {},
     "output_type": "display_data"
    },
    {
     "data": {
      "image/png": "[encoded data removed]",
      "text/plain": [
       "<Figure size 1200x600 with 1 Axes>"
      ]
     },
     "metadata": {},
     "output_type": "display_data"
    },
    {
     "name": "stdout",
     "output_type": "stream",
     "text": [
      "\n",
      "Training model: Random Forest\n",
      "              precision    recall  f1-score   support\n",
      "\n",
      "           0      0.186     0.056     0.086       197\n",
      "           1      0.701     0.901     0.789       485\n",
      "\n",
      "    accuracy                          0.657       682\n",
      "   macro avg      0.444     0.478     0.437       682\n",
      "weighted avg      0.553     0.657     0.586       682\n",
      "\n",
      "\n",
      "Training model: Logistic Regression\n",
      "              precision    recall  f1-score   support\n",
      "\n",
      "           0      0.152     0.036     0.058       197\n",
      "           1      0.701     0.920     0.796       485\n",
      "\n",
      "    accuracy                          0.664       682\n",
      "   macro avg      0.427     0.478     0.427       682\n",
      "weighted avg      0.543     0.664     0.583       682\n",
      "\n",
      "\n",
      "Training model: Gradient Boosting\n",
      "              precision    recall  f1-score   support\n",
      "\n",
      "           0      0.244     0.107     0.148       197\n",
      "           1      0.705     0.866     0.777       485\n",
      "\n",
      "    accuracy                          0.647       682\n",
      "   macro avg      0.474     0.486     0.463       682\n",
      "weighted avg      0.572     0.647     0.595       682\n",
      "\n",
      "\n",
      "Training model: MLP\n",
      "              precision    recall  f1-score   support\n",
      "\n",
      "           0      0.184     0.036     0.060       197\n",
      "           1      0.705     0.936     0.804       485\n",
      "\n",
      "    accuracy                          0.676       682\n",
      "   macro avg      0.445     0.486     0.432       682\n",
      "weighted avg      0.555     0.676     0.589       682\n",
      "\n",
      "\n",
      "Training model: SVM (linear)\n",
      "              precision    recall  f1-score   support\n",
      "\n",
      "           0      0.000     0.000     0.000       197\n",
      "           1      0.711     1.000     0.831       485\n",
      "\n",
      "    accuracy                          0.711       682\n",
      "   macro avg      0.356     0.500     0.416       682\n",
      "weighted avg      0.506     0.711     0.591       682\n",
      "\n",
      "\n",
      "Training model: XGBoost\n"
     ]
    },
    {
     "name": "stderr",
     "output_type": "stream",
     "text": [
      "/Library/Frameworks/Python.framework/Versions/3.10/lib/python3.10/site-packages/sklearn/metrics/_classification.py:1565: UndefinedMetricWarning: Precision is ill-defined and being set to 0.0 in labels with no predicted samples. Use `zero_division` parameter to control this behavior.\n",
      "  _warn_prf(average, modifier, f\"{metric.capitalize()} is\", len(result))\n",
      "/Library/Frameworks/Python.framework/Versions/3.10/lib/python3.10/site-packages/sklearn/metrics/_classification.py:1565: UndefinedMetricWarning: Precision is ill-defined and being set to 0.0 in labels with no predicted samples. Use `zero_division` parameter to control this behavior.\n",
      "  _warn_prf(average, modifier, f\"{metric.capitalize()} is\", len(result))\n",
      "/Library/Frameworks/Python.framework/Versions/3.10/lib/python3.10/site-packages/sklearn/metrics/_classification.py:1565: UndefinedMetricWarning: Precision is ill-defined and being set to 0.0 in labels with no predicted samples. Use `zero_division` parameter to control this behavior.\n",
      "  _warn_prf(average, modifier, f\"{metric.capitalize()} is\", len(result))\n",
      "/Library/Frameworks/Python.framework/Versions/3.10/lib/python3.10/site-packages/sklearn/metrics/_classification.py:1565: UndefinedMetricWarning: Precision is ill-defined and being set to 0.0 in labels with no predicted samples. Use `zero_division` parameter to control this behavior.\n",
      "  _warn_prf(average, modifier, f\"{metric.capitalize()} is\", len(result))\n",
      "/Library/Frameworks/Python.framework/Versions/3.10/lib/python3.10/site-packages/sklearn/metrics/_classification.py:1565: UndefinedMetricWarning: Precision is ill-defined and being set to 0.0 in labels with no predicted samples. Use `zero_division` parameter to control this behavior.\n",
      "  _warn_prf(average, modifier, f\"{metric.capitalize()} is\", len(result))\n",
      "/Library/Frameworks/Python.framework/Versions/3.10/lib/python3.10/site-packages/sklearn/metrics/_classification.py:1565: UndefinedMetricWarning: Precision is ill-defined and being set to 0.0 in labels with no predicted samples. Use `zero_division` parameter to control this behavior.\n",
      "  _warn_prf(average, modifier, f\"{metric.capitalize()} is\", len(result))\n"
     ]
    },
    {
     "name": "stdout",
     "output_type": "stream",
     "text": [
      "              precision    recall  f1-score   support\n",
      "\n",
      "           0      0.213     0.132     0.163       197\n",
      "           1      0.695     0.802     0.744       485\n",
      "\n",
      "    accuracy                          0.609       682\n",
      "   macro avg      0.454     0.467     0.454       682\n",
      "weighted avg      0.556     0.609     0.577       682\n",
      "\n",
      "\n",
      " Model Comparison Summary:\n"
     ]
    },
    {
     "data": {
      "application/vnd.microsoft.datawrangler.viewer.v0+json": {
       "columns": [
        {
         "name": "index",
         "rawType": "object",
         "type": "string"
        },
        {
         "name": "accuracy",
         "rawType": "float64",
         "type": "float"
        },
        {
         "name": "f1_score_asymmetry",
         "rawType": "float64",
         "type": "float"
        },
        {
         "name": "precision_asymmetry",
         "rawType": "float64",
         "type": "float"
        },
        {
         "name": "recall_asymmetry",
         "rawType": "float64",
         "type": "float"
        }
       ],
       "conversionMethod": "pd.DataFrame",
       "ref": "c3a59203-c694-4bf5-bf1f-46e54f2b9077",
       "rows": [
        [
         "SVM (linear)",
         "0.7111436950146628",
         "0.831191088260497",
         "0.7111436950146628",
         "1.0"
        ],
        [
         "MLP",
         "0.6759530791788856",
         "0.804251550044287",
         "0.7049689440993789",
         "0.9360824742268041"
        ],
        [
         "Logistic Regression",
         "0.6642228739002932",
         "0.7957181088314005",
         "0.7012578616352201",
         "0.9195876288659793"
        ],
        [
         "Random Forest",
         "0.656891495601173",
         "0.7888086642599278",
         "0.7014446227929374",
         "0.9010309278350516"
        ],
        [
         "Gradient Boosting",
         "0.6466275659824047",
         "0.7770582793709528",
         "0.7046979865771812",
         "0.865979381443299"
        ],
        [
         "XGBoost",
         "0.6085043988269795",
         "0.7444976076555024",
         "0.6946428571428571",
         "0.8020618556701031"
        ]
       ],
       "shape": {
        "columns": 4,
        "rows": 6
       }
      },
      "text/html": [
       "<div>\n",
       "<style scoped>\n",
       "    .dataframe tbody tr th:only-of-type {\n",
       "        vertical-align: middle;\n",
       "    }\n",
       "\n",
       "    .dataframe tbody tr th {\n",
       "        vertical-align: top;\n",
       "    }\n",
       "\n",
       "    .dataframe thead th {\n",
       "        text-align: right;\n",
       "    }\n",
       "</style>\n",
       "<table border=\"1\" class=\"dataframe\">\n",
       "  <thead>\n",
       "    <tr style=\"text-align: right;\">\n",
       "      <th></th>\n",
       "      <th>accuracy</th>\n",
       "      <th>f1_score_asymmetry</th>\n",
       "      <th>precision_asymmetry</th>\n",
       "      <th>recall_asymmetry</th>\n",
       "    </tr>\n",
       "  </thead>\n",
       "  <tbody>\n",
       "    <tr>\n",
       "      <th>SVM (linear)</th>\n",
       "      <td>0.711144</td>\n",
       "      <td>0.831191</td>\n",
       "      <td>0.711144</td>\n",
       "      <td>1.000000</td>\n",
       "    </tr>\n",
       "    <tr>\n",
       "      <th>MLP</th>\n",
       "      <td>0.675953</td>\n",
       "      <td>0.804252</td>\n",
       "      <td>0.704969</td>\n",
       "      <td>0.936082</td>\n",
       "    </tr>\n",
       "    <tr>\n",
       "      <th>Logistic Regression</th>\n",
       "      <td>0.664223</td>\n",
       "      <td>0.795718</td>\n",
       "      <td>0.701258</td>\n",
       "      <td>0.919588</td>\n",
       "    </tr>\n",
       "    <tr>\n",
       "      <th>Random Forest</th>\n",
       "      <td>0.656891</td>\n",
       "      <td>0.788809</td>\n",
       "      <td>0.701445</td>\n",
       "      <td>0.901031</td>\n",
       "    </tr>\n",
       "    <tr>\n",
       "      <th>Gradient Boosting</th>\n",
       "      <td>0.646628</td>\n",
       "      <td>0.777058</td>\n",
       "      <td>0.704698</td>\n",
       "      <td>0.865979</td>\n",
       "    </tr>\n",
       "    <tr>\n",
       "      <th>XGBoost</th>\n",
       "      <td>0.608504</td>\n",
       "      <td>0.744498</td>\n",
       "      <td>0.694643</td>\n",
       "      <td>0.802062</td>\n",
       "    </tr>\n",
       "  </tbody>\n",
       "</table>\n",
       "</div>"
      ],
      "text/plain": [
       "                     accuracy  f1_score_asymmetry  precision_asymmetry  \\\n",
       "SVM (linear)         0.711144            0.831191             0.711144   \n",
       "MLP                  0.675953            0.804252             0.704969   \n",
       "Logistic Regression  0.664223            0.795718             0.701258   \n",
       "Random Forest        0.656891            0.788809             0.701445   \n",
       "Gradient Boosting    0.646628            0.777058             0.704698   \n",
       "XGBoost              0.608504            0.744498             0.694643   \n",
       "\n",
       "                     recall_asymmetry  \n",
       "SVM (linear)                 1.000000  \n",
       "MLP                          0.936082  \n",
       "Logistic Regression          0.919588  \n",
       "Random Forest                0.901031  \n",
       "Gradient Boosting            0.865979  \n",
       "XGBoost                      0.802062  "
      ]
     },
     "metadata": {},
     "output_type": "display_data"
    },
    {
     "data": {
      "image/png": "[encoded data removed]",
      "text/plain": [
       "<Figure size 1200x600 with 1 Axes>"
      ]
     },
     "metadata": {},
     "output_type": "display_data"
    }
   ],
   "source": [
    "# Define Features and Labels\n",
    "feature_cols = [\n",
    "    'gyro-right-z-axis-max', 'gyro-left-z-axis-max',\n",
    "    'gyro-right-z-axis-min', 'gyro-left-z-axis-min',\n",
    "    'accel-right-z-axis-max', 'accel-left-z-axis-max',\n",
    "    'accel-right-z-axis-min', 'accel-left-z-axis-min'\n",
    "]\n",
    "\n",
    "labels = ['label_strict', 'label_moderate', 'label_lenient']\n",
    "\n",
    "\n",
    "for label in labels:\n",
    "    label_type = label.split('_')[1]\n",
    "    X = data_time_domain_gait[feature_cols].values\n",
    "    y = data_time_domain_gait[label].values\n",
    "    groups = data_time_domain_gait['patient_id'].values\n",
    "\n",
    "    # Normalize Features\n",
    "    scaler = StandardScaler()\n",
    "    X_scaled = scaler.fit_transform(X)\n",
    "\n",
    "    # Cross-Validation Setup\n",
    "    gkf = GroupKFold(n_splits=5)\n",
    "\n",
    "    # Define All Models to Compare\n",
    "    models = {\n",
    "        \"Random Forest\": RandomForestClassifier(n_estimators=100, random_state=42),\n",
    "        \"Logistic Regression\": LogisticRegression(max_iter=1000),\n",
    "        \"Gradient Boosting\": GradientBoostingClassifier(),\n",
    "        \"MLP\": MLPClassifier(hidden_layer_sizes=(50,), max_iter=3000, alpha=1e-4),\n",
    "        \"SVM (linear)\": SVC(kernel='linear', probability=True),\n",
    "        \"XGBoost\": xgb.XGBClassifier(eval_metric='logloss')\n",
    "    }\n",
    "\n",
    "\n",
    "    # Train and Evaluate All Models\n",
    "    results = {}\n",
    "\n",
    "    for name, model in models.items():\n",
    "        print(f\"\\nTraining model: {name}\")\n",
    "        y_true_all, y_pred_all = [], []\n",
    "\n",
    "        # Training and Evaluation\n",
    "        for fold, (train_idx, test_idx) in enumerate(gkf.split(X_scaled, y, groups)):\n",
    "                model.fit(X_scaled[train_idx], y[train_idx])\n",
    "                y_pred = model.predict(X_scaled[test_idx])\n",
    "                y_true_all.extend(y[test_idx])\n",
    "                y_pred_all.extend(y_pred)\n",
    "                \n",
    "        report = classification_report(y_true_all, y_pred_all, output_dict=True)\n",
    "        results[name] = report\n",
    "        print(classification_report(y_true_all, y_pred_all, digits=3))\n",
    "\n",
    "\n",
    "\n",
    "    # Compare Models (Accuracy and F1)\n",
    "    summary = pd.DataFrame({\n",
    "        model: {\n",
    "            \"accuracy\": results[model][\"accuracy\"],\n",
    "            \"f1_score_asymmetry\": results[model][\"1\"][\"f1-score\"],\n",
    "            \"precision_asymmetry\": results[model][\"1\"][\"precision\"],\n",
    "            \"recall_asymmetry\": results[model][\"1\"][\"recall\"]\n",
    "        }\n",
    "        for model in results\n",
    "    }).T\n",
    "\n",
    "\n",
    "    summary = summary.sort_values(by=\"f1_score_asymmetry\", ascending=False)\n",
    "    print(\"\\n Model Comparison Summary:\")\n",
    "    display(summary)\n",
    "\n",
    "    # ## Plot Summary\n",
    "    summary.plot(kind=\"bar\", figsize=(12,6))\n",
    "    plt.title(f\"Model Comparison on Asymmetry Detection ({label_type} label)\")\n",
    "    plt.ylabel(\"Score\")\n",
    "    plt.grid(True)\n",
    "    plt.xticks(rotation=45)\n",
    "    plt.tight_layout()\n",
    "    plt.show()"
   ]
  },
  {
   "cell_type": "markdown",
   "id": "526ad17e",
   "metadata": {},
   "source": [
    "## Results \n",
    "\n",
    "| Label Type       | Behavior                                                 |\n",
    "| ---------------- | -------------------------------------------------------- |\n",
    "| `label_strict`   | Low recall, very few positive samples, ~60% performance  |\n",
    "| `label_moderate` | Balanced but noisy performance                           |\n",
    "| `label_lenient`  | Higher F1 and accuracy (~80%)                           |\n",
    "\n",
    "\n",
    "\n",
    "### Why label_lenient Performs Better?\n",
    "\n",
    "1. More positive-asymmetry samples:\n",
    "    - The model has more training signal instances\n",
    "    - Reduces the label sparsity between the two classes\n",
    "\n",
    "2. Less ambiguous class boundaries:\n",
    "    - Even mild asymmetry windows become \"positives\"\n",
    "\n",
    "3. Possibly better idea in practice since:\n",
    "    - Mild asymmetries do matter in stroke rehab\n",
    "    - Detecting early signs may be more useful than catching only extreme events\n",
    "\n",
    "<br><br/>\n",
    "With the current solution we likely get:\n",
    "\n",
    "- **More false positives**\n",
    "- But also more opportunities for timely correction\n",
    "\n",
    "A tradeoff we are willing to make in stroke patients rehab to ensure that even in smaller cases of asymmetry we provide opportunities for the user to correct the gait cycle."
   ]
  },
  {
   "cell_type": "markdown",
   "id": "85dd9814",
   "metadata": {},
   "source": [
    "## 2. Stride times Asymmetry values"
   ]
  },
  {
   "cell_type": "code",
   "execution_count": 7,
   "id": "322eb6af",
   "metadata": {},
   "outputs": [],
   "source": [
    "# ## Define CNN Model Builder\n",
    "def build_model(input_shape):\n",
    "    model = Sequential()\n",
    "    model.add(Input(shape=(input_shape),))\n",
    "    model.add(Conv1D(64, 5, activation='relu', input_shape=input_shape), BatchNormalization)\n",
    "    model.add(Conv1D(128, 3, activation='relu', input_shape=input_shape), BatchNormalization)\n",
    "    model.add(Flatten(), Dense(64, activation='relu'), Dense(1, activation='sigmoid'))        \n",
    "    model.compile(optimizer=Adam(learning_rate=1e-3), loss='binary_crossentropy', metrics=['accuracy'])\n",
    "    \n",
    "    return model"
   ]
  },
  {
   "cell_type": "code",
   "execution_count": 8,
   "id": "673b5235",
   "metadata": {},
   "outputs": [
    {
     "name": "stdout",
     "output_type": "stream",
     "text": [
      "\\nFold 1\n"
     ]
    },
    {
     "name": "stderr",
     "output_type": "stream",
     "text": [
      "/Library/Frameworks/Python.framework/Versions/3.10/lib/python3.10/site-packages/keras/src/layers/convolutional/base_conv.py:107: UserWarning: Do not pass an `input_shape`/`input_dim` argument to a layer. When using Sequential models, prefer using an `Input(shape)` object as the first layer in the model instead.\n",
      "  super().__init__(activity_regularizer=activity_regularizer, **kwargs)\n"
     ]
    },
    {
     "ename": "TypeError",
     "evalue": "Sequential.add() takes from 2 to 3 positional arguments but 4 were given",
     "output_type": "error",
     "traceback": [
      "\u001b[0;31m---------------------------------------------------------------------------\u001b[0m",
      "\u001b[0;31mTypeError\u001b[0m                                 Traceback (most recent call last)",
      "Cell \u001b[0;32mIn[8], line 28\u001b[0m\n\u001b[1;32m     25\u001b[0m \u001b[38;5;28;01mfor\u001b[39;00m fold, (train_idx, test_idx) \u001b[38;5;129;01min\u001b[39;00m \u001b[38;5;28menumerate\u001b[39m(gkf\u001b[38;5;241m.\u001b[39msplit(X, y, groups)):\n\u001b[1;32m     26\u001b[0m     \u001b[38;5;28mprint\u001b[39m(\u001b[38;5;124mf\u001b[39m\u001b[38;5;124m\"\u001b[39m\u001b[38;5;130;01m\\\\\u001b[39;00m\u001b[38;5;124mnFold \u001b[39m\u001b[38;5;132;01m{\u001b[39;00mfold\u001b[38;5;250m \u001b[39m\u001b[38;5;241m+\u001b[39m\u001b[38;5;250m \u001b[39m\u001b[38;5;241m1\u001b[39m\u001b[38;5;132;01m}\u001b[39;00m\u001b[38;5;124m\"\u001b[39m)\n\u001b[0;32m---> 28\u001b[0m     model \u001b[38;5;241m=\u001b[39m \u001b[43mbuild_model\u001b[49m\u001b[43m(\u001b[49m\u001b[43minput_shape\u001b[49m\u001b[38;5;241;43m=\u001b[39;49m\u001b[43mX\u001b[49m\u001b[38;5;241;43m.\u001b[39;49m\u001b[43mshape\u001b[49m\u001b[43m[\u001b[49m\u001b[38;5;241;43m1\u001b[39;49m\u001b[43m:\u001b[49m\u001b[43m]\u001b[49m\u001b[43m)\u001b[49m\n\u001b[1;32m     29\u001b[0m     history \u001b[38;5;241m=\u001b[39m model\u001b[38;5;241m.\u001b[39mfit(X[train_idx], y[train_idx], epochs\u001b[38;5;241m=\u001b[39m\u001b[38;5;241m10\u001b[39m, batch_size\u001b[38;5;241m=\u001b[39m\u001b[38;5;241m32\u001b[39m, verbose\u001b[38;5;241m=\u001b[39m\u001b[38;5;241m0\u001b[39m)\n\u001b[1;32m     31\u001b[0m     y_pred_prob \u001b[38;5;241m=\u001b[39m model\u001b[38;5;241m.\u001b[39mpredict(X[test_idx])\u001b[38;5;241m.\u001b[39mflatten()\n",
      "Cell \u001b[0;32mIn[7], line 7\u001b[0m, in \u001b[0;36mbuild_model\u001b[0;34m(input_shape)\u001b[0m\n\u001b[1;32m      5\u001b[0m model\u001b[38;5;241m.\u001b[39madd(Conv1D(\u001b[38;5;241m64\u001b[39m, \u001b[38;5;241m5\u001b[39m, activation\u001b[38;5;241m=\u001b[39m\u001b[38;5;124m'\u001b[39m\u001b[38;5;124mrelu\u001b[39m\u001b[38;5;124m'\u001b[39m, input_shape\u001b[38;5;241m=\u001b[39minput_shape), BatchNormalization)\n\u001b[1;32m      6\u001b[0m model\u001b[38;5;241m.\u001b[39madd(Conv1D(\u001b[38;5;241m128\u001b[39m, \u001b[38;5;241m3\u001b[39m, activation\u001b[38;5;241m=\u001b[39m\u001b[38;5;124m'\u001b[39m\u001b[38;5;124mrelu\u001b[39m\u001b[38;5;124m'\u001b[39m, input_shape\u001b[38;5;241m=\u001b[39minput_shape), BatchNormalization)\n\u001b[0;32m----> 7\u001b[0m \u001b[43mmodel\u001b[49m\u001b[38;5;241;43m.\u001b[39;49m\u001b[43madd\u001b[49m\u001b[43m(\u001b[49m\u001b[43mFlatten\u001b[49m\u001b[43m(\u001b[49m\u001b[43m)\u001b[49m\u001b[43m,\u001b[49m\u001b[43m \u001b[49m\u001b[43mDense\u001b[49m\u001b[43m(\u001b[49m\u001b[38;5;241;43m64\u001b[39;49m\u001b[43m,\u001b[49m\u001b[43m \u001b[49m\u001b[43mactivation\u001b[49m\u001b[38;5;241;43m=\u001b[39;49m\u001b[38;5;124;43m'\u001b[39;49m\u001b[38;5;124;43mrelu\u001b[39;49m\u001b[38;5;124;43m'\u001b[39;49m\u001b[43m)\u001b[49m\u001b[43m,\u001b[49m\u001b[43m \u001b[49m\u001b[43mDense\u001b[49m\u001b[43m(\u001b[49m\u001b[38;5;241;43m1\u001b[39;49m\u001b[43m,\u001b[49m\u001b[43m \u001b[49m\u001b[43mactivation\u001b[49m\u001b[38;5;241;43m=\u001b[39;49m\u001b[38;5;124;43m'\u001b[39;49m\u001b[38;5;124;43msigmoid\u001b[39;49m\u001b[38;5;124;43m'\u001b[39;49m\u001b[43m)\u001b[49m\u001b[43m)\u001b[49m        \n\u001b[1;32m      8\u001b[0m model\u001b[38;5;241m.\u001b[39mcompile(optimizer\u001b[38;5;241m=\u001b[39mAdam(learning_rate\u001b[38;5;241m=\u001b[39m\u001b[38;5;241m1e-3\u001b[39m), loss\u001b[38;5;241m=\u001b[39m\u001b[38;5;124m'\u001b[39m\u001b[38;5;124mbinary_crossentropy\u001b[39m\u001b[38;5;124m'\u001b[39m, metrics\u001b[38;5;241m=\u001b[39m[\u001b[38;5;124m'\u001b[39m\u001b[38;5;124maccuracy\u001b[39m\u001b[38;5;124m'\u001b[39m])\n\u001b[1;32m     10\u001b[0m \u001b[38;5;28;01mreturn\u001b[39;00m model\n",
      "\u001b[0;31mTypeError\u001b[0m: Sequential.add() takes from 2 to 3 positional arguments but 4 were given"
     ]
    }
   ],
   "source": [
    "# CNN Model — Gait Asymmetry Detection from Raw IMU Windows\n",
    "\n",
    "# Load the .npz dataset\n",
    "data = np.load(\"all_subject_raw_windows.npz\")\n",
    "X = data[\"X\"]\n",
    "y = data[\"label_strict\"]\n",
    "groups = data[\"patient_id\"]\n",
    "\n",
    "# Filter out undefined gait cycle with label = 2\n",
    "valid_idx = y != 2\n",
    "X = X[valid_idx]\n",
    "y = y[valid_idx]\n",
    "groups = groups[valid_idx]\n",
    "\n",
    "# Normalize per-feature\n",
    "X = X.astype(np.float32)\n",
    "X_mean = X.mean(axis=(0, 1), keepdims=True)\n",
    "X_std = X.std(axis=(0, 1), keepdims=True)\n",
    "X = (X - X_mean) / (X_std + 1e-7)\n",
    "\n",
    "# GroupKFold Cross-Validation\n",
    "gkf = GroupKFold(n_splits=5)\n",
    "y_true_all, y_pred_all = [], []\n",
    "\n",
    "for fold, (train_idx, test_idx) in enumerate(gkf.split(X, y, groups)):\n",
    "    print(f\"\\\\nFold {fold + 1}\")\n",
    "\n",
    "    model = build_model(input_shape=X.shape[1:])\n",
    "    history = model.fit(X[train_idx], y[train_idx], epochs=10, batch_size=32, verbose=0)\n",
    "\n",
    "    y_pred_prob = model.predict(X[test_idx]).flatten()\n",
    "    y_pred = (y_pred_prob >= 0.5).astype(int)\n",
    "\n",
    "    y_true_all.extend(y[test_idx])\n",
    "    y_pred_all.extend(y_pred)\n",
    "\n",
    "    print(classification_report(y[test_idx], y_pred, digits=3))\n",
    "\n",
    "# Final Confusion Matrix\n",
    "cm = confusion_matrix(y_true_all, y_pred_all)\n",
    "sns.heatmap(cm, annot=True, fmt=\"d\", cmap=\"Blues\", xticklabels=[\"Symmetric\", \"Asymmetric\"], yticklabels=[\"Symmetric\", \"Asymmetric\"])\n",
    "plt.title(\"CNN — Gait Asymmetry Detection\")\n",
    "plt.xlabel(\"Predicted\")\n",
    "plt.ylabel(\"True\")\n",
    "plt.show()"
   ]
  },
  {
   "cell_type": "markdown",
   "id": "4194e951",
   "metadata": {},
   "source": [
    "## 3. Raw data values"
   ]
  },
  {
   "cell_type": "code",
   "execution_count": null,
   "id": "e0323be4",
   "metadata": {},
   "outputs": [],
   "source": []
  },
  {
   "cell_type": "code",
   "execution_count": null,
   "id": "a85234bb",
   "metadata": {},
   "outputs": [],
   "source": [
    "clean_extra_files(healthy_dir)\n",
    "clean_extra_files(stroke_dir)"
   ]
  }
 ],
 "metadata": {
  "kernelspec": {
   "display_name": "Python 3",
   "language": "python",
   "name": "python3"
  },
  "language_info": {
   "codemirror_mode": {
    "name": "ipython",
    "version": 3
   },
   "file_extension": ".py",
   "mimetype": "text/x-python",
   "name": "python",
   "nbconvert_exporter": "python",
   "pygments_lexer": "ipython3",
   "version": "3.10.11"
  }
 },
 "nbformat": 4,
 "nbformat_minor": 5
}
