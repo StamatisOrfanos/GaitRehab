{
 "cells": [
  {
   "cell_type": "markdown",
   "id": "c8174fda",
   "metadata": {},
   "source": [
    "# Real Time Gait Asymmetry Detection  \n",
    "\n",
    "In this notebook we are going to achieve the following:\n",
    "\n",
    "1. **Create the Training Dataset**: We will preprocess and combine data from different sources to create a comprehensive training dataset for real time gait asymmetry detection.\n",
    "2. **Feature Selection and Dimensionality Reduction**: We will identify the most relevant features for real time gait asymmetry detection using dimensionality reduction techniques.\n",
    "3. **Model Evaluation**: We will test and compare the performance of multiple machine learning and deep learning algorithms for real time gait asymmetry detection."
   ]
  },
  {
   "cell_type": "code",
   "execution_count": 1,
   "id": "0903db49",
   "metadata": {},
   "outputs": [],
   "source": [
    "# Libraries\n",
    "import os\n",
    "import pandas as pd\n",
    "import numpy as np\n",
    "import matplotlib.pyplot as plt\n",
    "import seaborn as sns\n",
    "from sklearn.model_selection import GroupKFold\n",
    "from sklearn.ensemble import RandomForestClassifier, GradientBoostingClassifier\n",
    "from sklearn.linear_model import LogisticRegression\n",
    "from sklearn.neural_network import MLPClassifier\n",
    "from sklearn.svm import SVC\n",
    "import xgboost as xgb\n",
    "from sklearn.metrics import classification_report, confusion_matrix\n",
    "from sklearn.preprocessing import StandardScaler\n",
    "from feature_extraction import generate_rolling_windows\n",
    "from data_preprocessing import clean_extra_files, detection_merge_subject_features, detection_merge_raw_npz_files, detection_merge_csv_datasets, detection_merge_npz_datasets\n",
    "\n",
    "# Constants\n",
    "base_dir    = 'Data'\n",
    "healthy_dir = 'Data/Healthy'\n",
    "stroke_dir  = 'Data/Stroke'\n",
    "\n",
    "detection_time_domain_name = 'detection_time_domain.csv'\n",
    "detection_asymmetry_name   = 'detection_asymmetry.csv'"
   ]
  },
  {
   "cell_type": "markdown",
   "id": "2c01b13f",
   "metadata": {},
   "source": [
    "## Data Preprocessing, Feature Selection and Dimensionality Reduction"
   ]
  },
  {
   "cell_type": "markdown",
   "id": "c12262d4",
   "metadata": {},
   "source": [
    "The first step is to create the dataset for the gait asymmetry and extract meaningful features from raw data. The goal is to create a set of different datasets that will provide a holistic view and different insights that we can use with the aim of creating a model that will provide a real time gait asymmetry detection. The process here includes the following steps:\n",
    "1. Create a new base dataset that includes data in 2 second windows and a 1 second stride.\n",
    "2. Extract simple statistic features from the 2 second signal like max, min and std. The simple statistics proved to be meaningful information for the classification task.\n",
    "3. Extract a set of simple symmetry and asymmetry features from swing and stride times.\n",
    "\n",
    "The data provided were designed for classification, since we have only a label for the whole signal as either 'Stroke Patient' or 'Healthy Subject'. In order to create the new real time asymmetry detection model we need to ensure that we have the correct labels. According to [Physio-pedia](https://www.physio-pedia.com/The_Gait_Cycle) the average gait cycle of a healthy adult is [1.2, 1.8] seconds. Taking into consideration the fact that impaired patients tend to have a longer stride we choose to use a 2 second window with a 1 second stride."
   ]
  },
  {
   "cell_type": "code",
   "execution_count": 2,
   "id": "f427b6b6",
   "metadata": {},
   "outputs": [
    {
     "name": "stdout",
     "output_type": "stream",
     "text": [
      "Generated and saved all 3 datasets to: Data/Healthy/Patient_8\n",
      "Generated and saved all 3 datasets to: Data/Healthy/Patient_1\n",
      "Generated and saved all 3 datasets to: Data/Healthy/Patient_6\n",
      "Generated and saved all 3 datasets to: Data/Healthy/Patient_7\n",
      "Generated and saved all 3 datasets to: Data/Healthy/Patient_9\n",
      "Generated and saved all 3 datasets to: Data/Healthy/Patient_5\n",
      "Generated and saved all 3 datasets to: Data/Healthy/Patient_2\n",
      "Generated and saved all 3 datasets to: Data/Healthy/Patient_3\n",
      "Generated and saved all 3 datasets to: Data/Healthy/Patient_4\n",
      "Merged 9 files into detection_time_domain.csv\n",
      "Merged 9 files into detection_asymmetry.csv\n"
     ]
    },
    {
     "ename": "KeyError",
     "evalue": "'label_strict is not a file in the archive'",
     "output_type": "error",
     "traceback": [
      "\u001b[0;31m---------------------------------------------------------------------------\u001b[0m",
      "\u001b[0;31mKeyError\u001b[0m                                  Traceback (most recent call last)",
      "Cell \u001b[0;32mIn[2], line 18\u001b[0m\n\u001b[1;32m     16\u001b[0m detection_merge_subject_features(healthy_dir, detection_time_domain_name, detection_time_domain_name)\n\u001b[1;32m     17\u001b[0m detection_merge_subject_features(healthy_dir, detection_asymmetry_name, detection_asymmetry_name)\n\u001b[0;32m---> 18\u001b[0m \u001b[43mdetection_merge_raw_npz_files\u001b[49m\u001b[43m(\u001b[49m\u001b[43mhealthy_dir\u001b[49m\u001b[43m)\u001b[49m\n",
      "File \u001b[0;32m~/Documents/GaitRehab/data_preprocessing.py:216\u001b[0m, in \u001b[0;36mdetection_merge_raw_npz_files\u001b[0;34m(base_dir, filename, output_name)\u001b[0m\n\u001b[1;32m    214\u001b[0m data \u001b[38;5;241m=\u001b[39m np\u001b[38;5;241m.\u001b[39mload(npz_path)\n\u001b[1;32m    215\u001b[0m all_arrays\u001b[38;5;241m.\u001b[39mappend(data[\u001b[38;5;124m'\u001b[39m\u001b[38;5;124mX\u001b[39m\u001b[38;5;124m'\u001b[39m])\n\u001b[0;32m--> 216\u001b[0m all_arrays\u001b[38;5;241m.\u001b[39mappend(\u001b[43mdata\u001b[49m\u001b[43m[\u001b[49m\u001b[38;5;124;43m'\u001b[39;49m\u001b[38;5;124;43mlabel_strict\u001b[39;49m\u001b[38;5;124;43m'\u001b[39;49m\u001b[43m]\u001b[49m)\n\u001b[1;32m    217\u001b[0m all_arrays\u001b[38;5;241m.\u001b[39mappend(data[\u001b[38;5;124m'\u001b[39m\u001b[38;5;124mlabel_moderate\u001b[39m\u001b[38;5;124m'\u001b[39m])\n\u001b[1;32m    218\u001b[0m all_arrays\u001b[38;5;241m.\u001b[39mappend(data[\u001b[38;5;124m'\u001b[39m\u001b[38;5;124mlabel_lenient\u001b[39m\u001b[38;5;124m'\u001b[39m])\n",
      "File \u001b[0;32m/Library/Frameworks/Python.framework/Versions/3.10/lib/python3.10/site-packages/numpy/lib/npyio.py:263\u001b[0m, in \u001b[0;36mNpzFile.__getitem__\u001b[0;34m(self, key)\u001b[0m\n\u001b[1;32m    261\u001b[0m         \u001b[38;5;28;01mreturn\u001b[39;00m \u001b[38;5;28mself\u001b[39m\u001b[38;5;241m.\u001b[39mzip\u001b[38;5;241m.\u001b[39mread(key)\n\u001b[1;32m    262\u001b[0m \u001b[38;5;28;01melse\u001b[39;00m:\n\u001b[0;32m--> 263\u001b[0m     \u001b[38;5;28;01mraise\u001b[39;00m \u001b[38;5;167;01mKeyError\u001b[39;00m(\u001b[38;5;124mf\u001b[39m\u001b[38;5;124m\"\u001b[39m\u001b[38;5;132;01m{\u001b[39;00mkey\u001b[38;5;132;01m}\u001b[39;00m\u001b[38;5;124m is not a file in the archive\u001b[39m\u001b[38;5;124m\"\u001b[39m)\n",
      "\u001b[0;31mKeyError\u001b[0m: 'label_strict is not a file in the archive'"
     ]
    }
   ],
   "source": [
    "# Create the new datasets for the healthy subjects\n",
    "\n",
    "# 1. Create all the feature files for the statistical, asymmetry and raw data \n",
    "for patient_id in os.listdir(healthy_dir):\n",
    "    patient_path = os.path.join(healthy_dir, patient_id)\n",
    "    \n",
    "    if not os.path.isdir(patient_path) or patient_path.__contains__('.DS_Store'):\n",
    "        continue\n",
    "    \n",
    "    try:\n",
    "        generate_rolling_windows(patient_path)\n",
    "    except Exception as e:\n",
    "        print(f'Error processing {patient_id}: {e}')\n",
    "        \n",
    "# 2. Merge all type of datasets into a single file for better training\n",
    "detection_merge_subject_features(healthy_dir, detection_time_domain_name, detection_time_domain_name)\n",
    "detection_merge_subject_features(healthy_dir, detection_asymmetry_name, detection_asymmetry_name)\n",
    "detection_merge_raw_npz_files(healthy_dir)"
   ]
  },
  {
   "cell_type": "code",
   "execution_count": null,
   "id": "cfb38488",
   "metadata": {},
   "outputs": [],
   "source": [
    "# Create the new datasets for the stroke patients\n",
    "\n",
    "# 1. Create all the feature files for the statistical, asymmetry and raw data \n",
    "for patient_id in os.listdir(stroke_dir):\n",
    "    patient_path = os.path.join(stroke_dir, patient_id)\n",
    "    \n",
    "    if not os.path.isdir(patient_path) or patient_path.__contains__('.DS_Store'):\n",
    "        continue\n",
    "    \n",
    "    try:\n",
    "        generate_rolling_windows(patient_path)\n",
    "    except Exception as e:\n",
    "        print(f'Error processing {patient_id}: {e}')\n",
    "        \n",
    "# 2. Merge all type of datasets into a single file for better training\n",
    "detection_merge_subject_features(stroke_dir, detection_time_domain_name, detection_time_domain_name)\n",
    "detection_merge_subject_features(stroke_dir, detection_asymmetry_name, detection_asymmetry_name)\n",
    "detection_merge_raw_npz_files(stroke_dir)"
   ]
  },
  {
   "cell_type": "code",
   "execution_count": null,
   "id": "d95fc04e",
   "metadata": {},
   "outputs": [],
   "source": [
    "# Merge the healthy subjects and stroke patients to a single file\n",
    "detection_merge_csv_datasets(healthy_dir, stroke_dir, detection_time_domain_name)\n",
    "detection_merge_csv_datasets(healthy_dir, stroke_dir, detection_asymmetry_name)\n",
    "detection_merge_npz_datasets(base_dir)"
   ]
  },
  {
   "cell_type": "markdown",
   "id": "421ec15c",
   "metadata": {},
   "source": [
    "## Gait Asymmetry Detection — Time-Domain Feature Model\n",
    "\n",
    "This part of the notebook trains a binary classifier to detect gait asymmetry using time-domain features extracted from rolling IMU windows."
   ]
  },
  {
   "cell_type": "code",
   "execution_count": null,
   "id": "265b47da",
   "metadata": {},
   "outputs": [],
   "source": [
    "# Load Dataset\n",
    "time_domain_data = pd.read_csv(\"detection_time_domain.csv\")\n",
    "\n",
    "# Filter for Gait Windows Only (label 0 or 1)\n",
    "data_time_domain_gait = time_domain_data[time_domain_data['label_moderate'].isin([0, 1])].copy()\n",
    "target_variable = 'label_moderate'\n",
    "\n",
    "# Calculate class frequencies\n",
    "class_counts = data_time_domain_gait[target_variable].value_counts()\n",
    "bars = ['Asymmetric Gait', 'Symmetric Gait']\n",
    "labels_position = np.arange(len(bars))\n",
    "\n",
    "\n",
    "# Visualize class distribution\n",
    "class_counts.plot(kind='bar')\n",
    "plt.title('Class Balance')\n",
    "plt.xlabel('Class')\n",
    "plt.ylabel('Number of Samples')\n",
    "plt.xticks(labels_position, bars, rotation=360, fontsize='13')\n",
    "plt.show()"
   ]
  },
  {
   "cell_type": "code",
   "execution_count": null,
   "id": "aaa36fab",
   "metadata": {},
   "outputs": [],
   "source": [
    "# Define Features and Labels\n",
    "feature_cols = [\n",
    "    'gyro-right-z-axis-max', 'gyro-left-z-axis-max',\n",
    "    'gyro-right-z-axis-min', 'gyro-left-z-axis-min',\n",
    "    'accel-right-z-axis-max', 'accel-left-z-axis-max',\n",
    "    'accel-right-z-axis-min', 'accel-left-z-axis-min'\n",
    "]\n",
    "\n",
    "labels = ['label_strict', 'label_moderate', 'label_lenient']\n",
    "\n",
    "\n",
    "for label in labels:\n",
    "    label_type = label.split('_')[1]\n",
    "    X = data_time_domain_gait[feature_cols].values\n",
    "    y = data_time_domain_gait[label].values\n",
    "    groups = data_time_domain_gait['patient_id'].values\n",
    "\n",
    "    # Normalize Features\n",
    "    scaler = StandardScaler()\n",
    "    X_scaled = scaler.fit_transform(X)\n",
    "\n",
    "    # Cross-Validation Setup\n",
    "    gkf = GroupKFold(n_splits=5)\n",
    "\n",
    "    # Define All Models to Compare\n",
    "    models = {\n",
    "        \"Random Forest\": RandomForestClassifier(n_estimators=100, random_state=42),\n",
    "        \"Logistic Regression\": LogisticRegression(max_iter=1000),\n",
    "        \"Gradient Boosting\": GradientBoostingClassifier(),\n",
    "        \"MLP\": MLPClassifier(hidden_layer_sizes=(50,), max_iter=3000, alpha=1e-4),\n",
    "        \"SVM (linear)\": SVC(kernel='linear', probability=True),\n",
    "        \"XGBoost\": xgb.XGBClassifier(eval_metric='logloss')\n",
    "    }\n",
    "\n",
    "\n",
    "    # Train and Evaluate All Models\n",
    "    results = {}\n",
    "\n",
    "    for name, model in models.items():\n",
    "        print(f\"\\nTraining model: {name}\")\n",
    "        y_true_all, y_pred_all = [], []\n",
    "\n",
    "        # Training and Evaluation\n",
    "        for fold, (train_idx, test_idx) in enumerate(gkf.split(X_scaled, y, groups)):\n",
    "                model.fit(X_scaled[train_idx], y[train_idx])\n",
    "                y_pred = model.predict(X_scaled[test_idx])\n",
    "                y_true_all.extend(y[test_idx])\n",
    "                y_pred_all.extend(y_pred)\n",
    "                \n",
    "        report = classification_report(y_true_all, y_pred_all, output_dict=True)\n",
    "        results[name] = report\n",
    "        print(classification_report(y_true_all, y_pred_all, digits=3))\n",
    "\n",
    "\n",
    "\n",
    "    # Compare Models (Accuracy and F1)\n",
    "    summary = pd.DataFrame({\n",
    "        model: {\n",
    "            \"accuracy\": results[model][\"accuracy\"],\n",
    "            \"f1_score_asymmetry\": results[model][\"1\"][\"f1-score\"],\n",
    "            \"precision_asymmetry\": results[model][\"1\"][\"precision\"],\n",
    "            \"recall_asymmetry\": results[model][\"1\"][\"recall\"]\n",
    "        }\n",
    "        for model in results\n",
    "    }).T\n",
    "\n",
    "\n",
    "    summary = summary.sort_values(by=\"f1_score_asymmetry\", ascending=False)\n",
    "    print(\"\\n Model Comparison Summary:\")\n",
    "    display(summary)\n",
    "\n",
    "    # ## Plot Summary\n",
    "    summary.plot(kind=\"bar\", figsize=(12,6))\n",
    "    plt.title(f\"Model Comparison on Asymmetry Detection ({label_type} label)\")\n",
    "    plt.ylabel(\"Score\")\n",
    "    plt.grid(True)\n",
    "    plt.xticks(rotation=45)\n",
    "    plt.tight_layout()\n",
    "    plt.show()"
   ]
  },
  {
   "cell_type": "markdown",
   "id": "526ad17e",
   "metadata": {},
   "source": [
    "## Results \n",
    "\n",
    "| Label Type       | Behavior                                                 |\n",
    "| ---------------- | -------------------------------------------------------- |\n",
    "| `label_strict`   | Low recall, very few positive samples, ~60% performance  |\n",
    "| `label_moderate` | Balanced but noisy performance                           |\n",
    "| `label_lenient`  | Higher F1 and accuracy (~80%)                           |\n",
    "\n",
    "\n",
    "\n",
    "### Why label_lenient Performs Better?\n",
    "\n",
    "1. More positive-asymmetry samples:\n",
    "    - The model has more training signal instances\n",
    "    - Reduces the label sparsity between the two classes\n",
    "\n",
    "2. Less ambiguous class boundaries:\n",
    "    - Even mild asymmetry windows become \"positives\"\n",
    "\n",
    "3. Possibly better idea in practice since:\n",
    "    - Mild asymmetries do matter in stroke rehab\n",
    "    - Detecting early signs may be more useful than catching only extreme events\n",
    "\n",
    "<br><br/>\n",
    "With the current solution we likely get:\n",
    "\n",
    "- **More false positives**\n",
    "- But also more opportunities for timely correction\n",
    "\n",
    "A tradeoff we are willing to make in stroke patients rehab to ensure that even in smaller cases of asymmetry we provide opportunities for the user to correct the gait cycle."
   ]
  },
  {
   "cell_type": "markdown",
   "id": "85dd9814",
   "metadata": {},
   "source": [
    "## 2. Stride times Asymmetry values"
   ]
  },
  {
   "cell_type": "code",
   "execution_count": null,
   "id": "7f669e2a",
   "metadata": {},
   "outputs": [],
   "source": [
    "import numpy as np\n",
    "\n",
    "# Load the uploaded .npz file\n",
    "raw_data = np.load(\"all_subject_raw_windows.npz\")\n",
    "print(raw_data['X'].shape)\n",
    "print(raw_data['label_lenient'].shape)\n",
    "print(raw_data['label_moderate'].shape)\n",
    "print(raw_data['label_strict'].shape)"
   ]
  },
  {
   "cell_type": "markdown",
   "id": "4194e951",
   "metadata": {},
   "source": [
    "## 3. Raw data values"
   ]
  },
  {
   "cell_type": "code",
   "execution_count": null,
   "id": "e0323be4",
   "metadata": {},
   "outputs": [],
   "source": []
  },
  {
   "cell_type": "code",
   "execution_count": null,
   "id": "a85234bb",
   "metadata": {},
   "outputs": [],
   "source": [
    "clean_extra_files(healthy_dir)\n",
    "clean_extra_files(stroke_dir)"
   ]
  }
 ],
 "metadata": {
  "kernelspec": {
   "display_name": "Python 3",
   "language": "python",
   "name": "python3"
  },
  "language_info": {
   "codemirror_mode": {
    "name": "ipython",
    "version": 3
   },
   "file_extension": ".py",
   "mimetype": "text/x-python",
   "name": "python",
   "nbconvert_exporter": "python",
   "pygments_lexer": "ipython3",
   "version": "3.10.11"
  }
 },
 "nbformat": 4,
 "nbformat_minor": 5
}
