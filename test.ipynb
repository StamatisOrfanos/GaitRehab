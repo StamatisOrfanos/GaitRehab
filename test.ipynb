{
 "cells": [
  {
   "cell_type": "code",
   "execution_count": 1,
   "id": "4062aa98",
   "metadata": {},
   "outputs": [],
   "source": [
    "import os, sys\n",
    "import pandas as pd   \n",
    "from data_transform import merge_data, gait_features, time_domain_features, frequency_domain_features, gait_features, cross_limb_features\n",
    "import matplotlib.pyplot as plt "
   ]
  },
  {
   "cell_type": "code",
   "execution_count": 2,
   "id": "5c0c9833",
   "metadata": {},
   "outputs": [],
   "source": [
    "data = pd.read_csv('gyroscope.csv')"
   ]
  },
  {
   "cell_type": "code",
   "execution_count": 3,
   "id": "939bb701",
   "metadata": {},
   "outputs": [],
   "source": [
    "time_domain_features('', 'gyroscope')"
   ]
  },
  {
   "cell_type": "code",
   "execution_count": 4,
   "id": "4c30866f",
   "metadata": {},
   "outputs": [
    {
     "ename": "TypeError",
     "evalue": "frequency_domain_features() missing 1 required positional argument: 'output_path'",
     "output_type": "error",
     "traceback": [
      "\u001b[0;31m---------------------------------------------------------------------------\u001b[0m",
      "\u001b[0;31mTypeError\u001b[0m                                 Traceback (most recent call last)",
      "Cell \u001b[0;32mIn[4], line 1\u001b[0m\n\u001b[0;32m----> 1\u001b[0m \u001b[43mfrequency_domain_features\u001b[49m\u001b[43m(\u001b[49m\u001b[38;5;124;43m'\u001b[39;49m\u001b[38;5;124;43m'\u001b[39;49m\u001b[43m,\u001b[49m\u001b[43m \u001b[49m\u001b[38;5;124;43m'\u001b[39;49m\u001b[38;5;124;43mgyroscope\u001b[39;49m\u001b[38;5;124;43m'\u001b[39;49m\u001b[43m)\u001b[49m\n",
      "\u001b[0;31mTypeError\u001b[0m: frequency_domain_features() missing 1 required positional argument: 'output_path'"
     ]
    }
   ],
   "source": [
    "frequency_domain_features('', 'gyroscope')"
   ]
  },
  {
   "cell_type": "code",
   "execution_count": null,
   "id": "ce0a2662",
   "metadata": {},
   "outputs": [],
   "source": [
    "gait_features('', 'gyroscope')"
   ]
  },
  {
   "cell_type": "code",
   "execution_count": null,
   "id": "d4a1f2af",
   "metadata": {},
   "outputs": [],
   "source": [
    "cross_limb_features('', 'gyroscope')"
   ]
  }
 ],
 "metadata": {
  "kernelspec": {
   "display_name": "Python 3",
   "language": "python",
   "name": "python3"
  },
  "language_info": {
   "codemirror_mode": {
    "name": "ipython",
    "version": 3
   },
   "file_extension": ".py",
   "mimetype": "text/x-python",
   "name": "python",
   "nbconvert_exporter": "python",
   "pygments_lexer": "ipython3",
   "version": "3.10.11"
  }
 },
 "nbformat": 4,
 "nbformat_minor": 5
}
