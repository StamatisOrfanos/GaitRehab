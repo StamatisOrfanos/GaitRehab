{
 "cells": [
  {
   "cell_type": "code",
   "execution_count": 1,
   "id": "4062aa98",
   "metadata": {},
   "outputs": [],
   "source": [
    "import os, sys\n",
    "import pandas as pd   \n",
    "from data_transform import merge_data, gait_features, time_domain_features, frequency_domain_features, gait_features, cross_limb_features\n",
    "import matplotlib.pyplot as plt "
   ]
  },
  {
   "cell_type": "code",
   "execution_count": 2,
   "id": "5c0c9833",
   "metadata": {},
   "outputs": [],
   "source": [
    "data = pd.read_csv('gyroscope.csv')"
   ]
  },
  {
   "cell_type": "code",
   "execution_count": null,
   "id": "939bb701",
   "metadata": {},
   "outputs": [],
   "source": [
    "time_domain_features('', 'gyroscope')"
   ]
  },
  {
   "cell_type": "code",
   "execution_count": null,
   "id": "4c30866f",
   "metadata": {},
   "outputs": [],
   "source": [
    "frequency_domain_features('', 'gyroscope')"
   ]
  },
  {
   "cell_type": "code",
   "execution_count": 3,
   "id": "ce0a2662",
   "metadata": {},
   "outputs": [],
   "source": [
    "gait_features('', 'gyroscope')"
   ]
  },
  {
   "cell_type": "code",
   "execution_count": 4,
   "id": "d4a1f2af",
   "metadata": {},
   "outputs": [],
   "source": [
    "cross_limb_features('', 'gyroscope')"
   ]
  }
 ],
 "metadata": {
  "kernelspec": {
   "display_name": "Python 3",
   "language": "python",
   "name": "python3"
  },
  "language_info": {
   "codemirror_mode": {
    "name": "ipython",
    "version": 3
   },
   "file_extension": ".py",
   "mimetype": "text/x-python",
   "name": "python",
   "nbconvert_exporter": "python",
   "pygments_lexer": "ipython3",
   "version": "3.10.11"
  }
 },
 "nbformat": 4,
 "nbformat_minor": 5
}
