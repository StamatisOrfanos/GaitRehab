{
 "cells": [
  {
   "cell_type": "code",
   "execution_count": 6,
   "id": "eb5fa506",
   "metadata": {},
   "outputs": [
    {
     "name": "stdout",
     "output_type": "stream",
     "text": [
      "The length of the left shank is 6360, and the right is: 7834 and the sum is: 14194\n",
      "The length of the data is: 14194\n"
     ]
    }
   ],
   "source": [
    "import os\n",
    "import pandas as pd\n",
    "\n",
    "\n",
    "left_acc = pd.read_csv('left_gyro.csv')\n",
    "right_acc = pd.read_csv('right_gyro.csv')\n",
    "\n",
    "# Rename columns to avoid duplicates\n",
    "left_columns_names = {'elapsed (s)': 'left-elapsed (s)', \"x-axis (deg/s)\": \"left-x-axis (deg/s)\", \"y-axis (deg/s)\": \"left-y-axis (deg/s)\", \"z-axis (deg/s)\": \"left-z-axis (deg/s)\" }\n",
    "left_acc.rename(columns=left_columns_names, inplace=True)\n",
    "left_acc.drop(columns=['epoc (ms)'], inplace=True)\n",
    "\n",
    "right_columns_names = {'elapsed (s)': 'right-elapsed (s)', \"x-axis (deg/s)\": \"right-x-axis (deg/s)\", \"y-axis (deg/s)\": \"right-y-axis (deg/s)\", \"z-axis (deg/s)\": \"right-z-axis (deg/s)\" }\n",
    "right_acc.rename(columns=right_columns_names, inplace=True)\n",
    "right_acc.drop(columns=['epoc (ms)'], inplace=True)\n",
    "\n",
    "\n",
    "\n",
    "summ = len(left_acc) + len(right_acc)\n",
    "print(\"The length of the left shank is {}, and the right is: {} and the sum is: {}\".format(len(left_acc), len(right_acc), summ))\n",
    "\n",
    "z = left_acc.merge(right_acc, on=\"timestamp (+0700)\", how=\"outer\").sort_values(\"timestamp (+0700)\").ffill()\n",
    "\n",
    "\n",
    "print(\"The length of the data is: {}\".format(len(z)))\n",
    "z.head()\n",
    "z.to_csv('gyroscope.csv', index=False)"
   ]
  }
 ],
 "metadata": {
  "kernelspec": {
   "display_name": "base",
   "language": "python",
   "name": "python3"
  },
  "language_info": {
   "codemirror_mode": {
    "name": "ipython",
    "version": 3
   },
   "file_extension": ".py",
   "mimetype": "text/x-python",
   "name": "python",
   "nbconvert_exporter": "python",
   "pygments_lexer": "ipython3",
   "version": "3.10.9"
  }
 },
 "nbformat": 4,
 "nbformat_minor": 5
}
